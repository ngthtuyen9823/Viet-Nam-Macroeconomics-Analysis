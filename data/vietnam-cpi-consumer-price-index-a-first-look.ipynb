{
 "cells": [
  {
   "cell_type": "markdown",
   "id": "5d2fcc8e",
   "metadata": {
    "_cell_guid": "b1076dfc-b9ad-4769-8c92-a6c4dae69d19",
    "_uuid": "8f2839f25d086af736a60e9eeb907d3b93b6e0e5",
    "papermill": {
     "duration": 0.019249,
     "end_time": "2021-10-18T03:02:40.486628",
     "exception": false,
     "start_time": "2021-10-18T03:02:40.467379",
     "status": "completed"
    },
    "tags": []
   },
   "source": [
    "> Phân tích sơ lược chỉ số giá tiêu dùng (CPI) Việt Nam"
   ]
  },
  {
   "cell_type": "markdown",
   "id": "702dc94a",
   "metadata": {
    "papermill": {
     "duration": 0.015443,
     "end_time": "2021-10-18T03:02:40.519891",
     "exception": false,
     "start_time": "2021-10-18T03:02:40.504448",
     "status": "completed"
    },
    "tags": []
   },
   "source": [
    "#### Coding setup...."
   ]
  },
  {
   "cell_type": "markdown",
   "id": "5d63b957",
   "metadata": {
    "papermill": {
     "duration": 0.017794,
     "end_time": "2021-10-18T03:02:57.828122",
     "exception": false,
     "start_time": "2021-10-18T03:02:57.810328",
     "status": "completed"
    },
    "tags": []
   },
   "source": [
    "## 1. Dữ liệu và tham khảo"
   ]
  },
  {
   "cell_type": "markdown",
   "id": "4cec0dae",
   "metadata": {
    "papermill": {
     "duration": 0.01892,
     "end_time": "2021-10-18T03:02:57.865225",
     "exception": false,
     "start_time": "2021-10-18T03:02:57.846305",
     "status": "completed"
    },
    "tags": []
   },
   "source": [
    "* Wiki: [Chỉ số giá tiêu dùng (CPI) là gì?](https://vi.wikipedia.org/wiki/Ch%E1%BB%89_s%E1%BB%91_gi%C3%A1_ti%C3%AAu_d%C3%B9ng)\n",
    "* World Bank: [data.worldbank.org VN 1995-2020](https://data.worldbank.org/indicator/FP.CPI.TOTL?end=2020&locations=VN&start=1995&view=chart)"
   ]
  },
  {
   "cell_type": "markdown",
   "id": "231bdd07",
   "metadata": {
    "papermill": {
     "duration": 0.018189,
     "end_time": "2021-10-18T03:02:57.901689",
     "exception": false,
     "start_time": "2021-10-18T03:02:57.883500",
     "status": "completed"
    },
    "tags": []
   },
   "source": [
    "### Sơ lược dữ liệu CPI từ World Bank"
   ]
  },
  {
   "cell_type": "code",
   "execution_count": 3,
   "id": "4bc6edbe",
   "metadata": {
    "execution": {
     "iopub.execute_input": "2021-10-18T03:02:57.943766Z",
     "iopub.status.busy": "2021-10-18T03:02:57.943055Z",
     "iopub.status.idle": "2021-10-18T03:02:58.763936Z",
     "shell.execute_reply": "2021-10-18T03:02:58.764488Z",
     "shell.execute_reply.started": "2021-10-18T03:01:45.923253Z"
    },
    "papermill": {
     "duration": 0.844753,
     "end_time": "2021-10-18T03:02:58.764656",
     "exception": false,
     "start_time": "2021-10-18T03:02:57.919903",
     "status": "completed"
    },
    "tags": []
   },
   "outputs": [
    {
     "data": {
      "text/plain": [
       "Index(['Country Name', 'Country Code', 'Indicator Name', 'Indicator Code',\n",
       "       '1960', '1961', '1962', '1963', '1964', '1965', '1966', '1967', '1968',\n",
       "       '1969', '1970', '1971', '1972', '1973', '1974', '1975', '1976', '1977',\n",
       "       '1978', '1979', '1980', '1981', '1982', '1983', '1984', '1985', '1986',\n",
       "       '1987', '1988', '1989', '1990', '1991', '1992', '1993', '1994', '1995',\n",
       "       '1996', '1997', '1998', '1999', '2000', '2001', '2002', '2003', '2004',\n",
       "       '2005', '2006', '2007', '2008', '2009', '2010', '2011', '2012', '2013',\n",
       "       '2014', '2015', '2016', '2017', '2018', '2019', '2020'],\n",
       "      dtype='object')"
      ]
     },
     "execution_count": 3,
     "metadata": {},
     "output_type": "execute_result"
    }
   ],
   "source": [
    "df_wb_cpi = pd.read_excel('https://api.worldbank.org/v2/en/indicator/FP.CPI.TOTL?downloadformat=excel', header = 3)\n",
    "df_wb_cpi.columns"
   ]
  },
  {
   "cell_type": "code",
   "execution_count": 4,
   "id": "3e676d27",
   "metadata": {
    "execution": {
     "iopub.execute_input": "2021-10-18T03:02:58.805476Z",
     "iopub.status.busy": "2021-10-18T03:02:58.804791Z",
     "iopub.status.idle": "2021-10-18T03:02:58.827997Z",
     "shell.execute_reply": "2021-10-18T03:02:58.828631Z",
     "shell.execute_reply.started": "2021-10-18T03:01:47.713169Z"
    },
    "papermill": {
     "duration": 0.045272,
     "end_time": "2021-10-18T03:02:58.828797",
     "exception": false,
     "start_time": "2021-10-18T03:02:58.783525",
     "status": "completed"
    },
    "tags": []
   },
   "outputs": [
    {
     "data": {
      "text/html": [
       "<div>\n",
       "<style scoped>\n",
       "    .dataframe tbody tr th:only-of-type {\n",
       "        vertical-align: middle;\n",
       "    }\n",
       "\n",
       "    .dataframe tbody tr th {\n",
       "        vertical-align: top;\n",
       "    }\n",
       "\n",
       "    .dataframe thead th {\n",
       "        text-align: right;\n",
       "    }\n",
       "</style>\n",
       "<table border=\"1\" class=\"dataframe\">\n",
       "  <thead>\n",
       "    <tr style=\"text-align: right;\">\n",
       "      <th></th>\n",
       "      <th>Country Name</th>\n",
       "      <th>Country Code</th>\n",
       "      <th>Indicator Name</th>\n",
       "      <th>1960</th>\n",
       "      <th>1990</th>\n",
       "      <th>2000</th>\n",
       "      <th>2010</th>\n",
       "      <th>2020</th>\n",
       "    </tr>\n",
       "  </thead>\n",
       "  <tbody>\n",
       "    <tr>\n",
       "      <th>261</th>\n",
       "      <td>Kosovo</td>\n",
       "      <td>XKX</td>\n",
       "      <td>Consumer price index (2010 = 100)</td>\n",
       "      <td>NaN</td>\n",
       "      <td>NaN</td>\n",
       "      <td>NaN</td>\n",
       "      <td>100.00</td>\n",
       "      <td>118.30</td>\n",
       "    </tr>\n",
       "    <tr>\n",
       "      <th>262</th>\n",
       "      <td>Yemen, Rep.</td>\n",
       "      <td>YEM</td>\n",
       "      <td>Consumer price index (2010 = 100)</td>\n",
       "      <td>NaN</td>\n",
       "      <td>3.84</td>\n",
       "      <td>34.24</td>\n",
       "      <td>100.00</td>\n",
       "      <td>NaN</td>\n",
       "    </tr>\n",
       "    <tr>\n",
       "      <th>263</th>\n",
       "      <td>South Africa</td>\n",
       "      <td>ZAF</td>\n",
       "      <td>Consumer price index (2010 = 100)</td>\n",
       "      <td>1.77</td>\n",
       "      <td>25.43</td>\n",
       "      <td>59.90</td>\n",
       "      <td>100.00</td>\n",
       "      <td>164.05</td>\n",
       "    </tr>\n",
       "    <tr>\n",
       "      <th>264</th>\n",
       "      <td>Zambia</td>\n",
       "      <td>ZMB</td>\n",
       "      <td>Consumer price index (2010 = 100)</td>\n",
       "      <td>NaN</td>\n",
       "      <td>0.22</td>\n",
       "      <td>23.83</td>\n",
       "      <td>100.00</td>\n",
       "      <td>245.71</td>\n",
       "    </tr>\n",
       "    <tr>\n",
       "      <th>265</th>\n",
       "      <td>Zimbabwe</td>\n",
       "      <td>ZWE</td>\n",
       "      <td>Consumer price index (2010 = 100)</td>\n",
       "      <td>NaN</td>\n",
       "      <td>NaN</td>\n",
       "      <td>NaN</td>\n",
       "      <td>100.00</td>\n",
       "      <td>NaN</td>\n",
       "    </tr>\n",
       "  </tbody>\n",
       "</table>\n",
       "</div>"
      ],
      "text/plain": [
       "     Country Name Country Code                     Indicator Name  1960  1990  \\\n",
       "261        Kosovo          XKX  Consumer price index (2010 = 100)   NaN   NaN   \n",
       "262   Yemen, Rep.          YEM  Consumer price index (2010 = 100)   NaN  3.84   \n",
       "263  South Africa          ZAF  Consumer price index (2010 = 100)  1.77 25.43   \n",
       "264        Zambia          ZMB  Consumer price index (2010 = 100)   NaN  0.22   \n",
       "265      Zimbabwe          ZWE  Consumer price index (2010 = 100)   NaN   NaN   \n",
       "\n",
       "     2000   2010   2020  \n",
       "261   NaN 100.00 118.30  \n",
       "262 34.24 100.00    NaN  \n",
       "263 59.90 100.00 164.05  \n",
       "264 23.83 100.00 245.71  \n",
       "265   NaN 100.00    NaN  "
      ]
     },
     "execution_count": 4,
     "metadata": {},
     "output_type": "execute_result"
    }
   ],
   "source": [
    "df_data = df_wb_cpi[[\"Country Name\", \"Country Code\", \"Indicator Name\", \"1960\", \"1990\", \"2000\", \"2010\", \"2020\"]].copy()\n",
    "df_data.tail()"
   ]
  },
  {
   "cell_type": "markdown",
   "id": "80d792c2",
   "metadata": {
    "papermill": {
     "duration": 0.018862,
     "end_time": "2021-10-18T03:02:58.867226",
     "exception": false,
     "start_time": "2021-10-18T03:02:58.848364",
     "status": "completed"
    },
    "tags": []
   },
   "source": [
    "* Consumer price index (**2010 = 100**)\n",
    "  * Nghĩa là giá tiêu dùng năm cơ sở được lấy là năm 2010, tỷ lệ = 100%\n",
    "* Ví dụ **South Africa** năm 2020 CPI = 164\n",
    "  * Nghĩa là giá tiêu dùng năm 2020 tăng 164% ~ 1.64 so với năm 2010\n",
    "* Thông tin gồm: Country Name (quốc gia) và số liệu từ năm 1960 tới năm 2020\n",
    "  * Tổng cộng có dữ liệu khoảng 265 quốc gia\n",
    "* NaN: là những năm không có dữ liệu"
   ]
  },
  {
   "cell_type": "markdown",
   "id": "3fa26d42",
   "metadata": {
    "execution": {
     "iopub.execute_input": "2021-10-17T08:16:52.246926Z",
     "iopub.status.busy": "2021-10-17T08:16:52.246649Z",
     "iopub.status.idle": "2021-10-17T08:16:52.250831Z",
     "shell.execute_reply": "2021-10-17T08:16:52.250031Z",
     "shell.execute_reply.started": "2021-10-17T08:16:52.246897Z"
    },
    "papermill": {
     "duration": 0.018726,
     "end_time": "2021-10-18T03:02:58.905244",
     "exception": false,
     "start_time": "2021-10-18T03:02:58.886518",
     "status": "completed"
    },
    "tags": []
   },
   "source": [
    "## 2. Chỉ số giá tiêu dùng (CPI) Việt Nam"
   ]
  },
  {
   "cell_type": "code",
   "execution_count": 5,
   "id": "1aa1e7a5",
   "metadata": {
    "execution": {
     "iopub.execute_input": "2021-10-18T03:02:58.946354Z",
     "iopub.status.busy": "2021-10-18T03:02:58.945741Z",
     "iopub.status.idle": "2021-10-18T03:02:58.969181Z",
     "shell.execute_reply": "2021-10-18T03:02:58.969790Z",
     "shell.execute_reply.started": "2021-10-18T03:01:47.732462Z"
    },
    "papermill": {
     "duration": 0.045619,
     "end_time": "2021-10-18T03:02:58.969953",
     "exception": false,
     "start_time": "2021-10-18T03:02:58.924334",
     "status": "completed"
    },
    "tags": []
   },
   "outputs": [
    {
     "data": {
      "text/html": [
       "<div>\n",
       "<style scoped>\n",
       "    .dataframe tbody tr th:only-of-type {\n",
       "        vertical-align: middle;\n",
       "    }\n",
       "\n",
       "    .dataframe tbody tr th {\n",
       "        vertical-align: top;\n",
       "    }\n",
       "\n",
       "    .dataframe thead th {\n",
       "        text-align: right;\n",
       "    }\n",
       "</style>\n",
       "<table border=\"1\" class=\"dataframe\">\n",
       "  <thead>\n",
       "    <tr style=\"text-align: right;\">\n",
       "      <th></th>\n",
       "      <th>Country Name</th>\n",
       "      <th>Country Code</th>\n",
       "      <th>Indicator Name</th>\n",
       "      <th>Indicator Code</th>\n",
       "      <th>1995</th>\n",
       "      <th>1996</th>\n",
       "      <th>1997</th>\n",
       "      <th>1998</th>\n",
       "      <th>1999</th>\n",
       "      <th>2000</th>\n",
       "      <th>...</th>\n",
       "      <th>2011</th>\n",
       "      <th>2012</th>\n",
       "      <th>2013</th>\n",
       "      <th>2014</th>\n",
       "      <th>2015</th>\n",
       "      <th>2016</th>\n",
       "      <th>2017</th>\n",
       "      <th>2018</th>\n",
       "      <th>2019</th>\n",
       "      <th>2020</th>\n",
       "    </tr>\n",
       "  </thead>\n",
       "  <tbody>\n",
       "    <tr>\n",
       "      <th>257</th>\n",
       "      <td>Vietnam</td>\n",
       "      <td>VNM</td>\n",
       "      <td>Consumer price index (2010 = 100)</td>\n",
       "      <td>FP.CPI.TOTL</td>\n",
       "      <td>40.17</td>\n",
       "      <td>42.45</td>\n",
       "      <td>43.81</td>\n",
       "      <td>46.99</td>\n",
       "      <td>48.93</td>\n",
       "      <td>48.09</td>\n",
       "      <td>...</td>\n",
       "      <td>118.68</td>\n",
       "      <td>129.47</td>\n",
       "      <td>138.01</td>\n",
       "      <td>143.64</td>\n",
       "      <td>144.55</td>\n",
       "      <td>148.41</td>\n",
       "      <td>153.63</td>\n",
       "      <td>159.07</td>\n",
       "      <td>163.52</td>\n",
       "      <td>168.78</td>\n",
       "    </tr>\n",
       "  </tbody>\n",
       "</table>\n",
       "<p>1 rows × 30 columns</p>\n",
       "</div>"
      ],
      "text/plain": [
       "    Country Name Country Code                     Indicator Name  \\\n",
       "257      Vietnam          VNM  Consumer price index (2010 = 100)   \n",
       "\n",
       "    Indicator Code  1995  1996  1997  1998  1999  2000  ...   2011   2012  \\\n",
       "257    FP.CPI.TOTL 40.17 42.45 43.81 46.99 48.93 48.09  ... 118.68 129.47   \n",
       "\n",
       "      2013   2014   2015   2016   2017   2018   2019   2020  \n",
       "257 138.01 143.64 144.55 148.41 153.63 159.07 163.52 168.78  \n",
       "\n",
       "[1 rows x 30 columns]"
      ]
     },
     "execution_count": 5,
     "metadata": {},
     "output_type": "execute_result"
    }
   ],
   "source": [
    "df_vnm = df_wb_cpi[df_wb_cpi[\"Country Code\"] == \"VNM\"].copy()\n",
    "df_vnm = df_vnm.dropna(axis = 1)\n",
    "df_vnm"
   ]
  },
  {
   "cell_type": "markdown",
   "id": "58d8df3f",
   "metadata": {
    "papermill": {
     "duration": 0.019582,
     "end_time": "2021-10-18T03:02:59.009386",
     "exception": false,
     "start_time": "2021-10-18T03:02:58.989804",
     "status": "completed"
    },
    "tags": []
   },
   "source": [
    "* Dữ liệu chỉ số giá tiêu dùng VietNam chỉ có từ năm **1995** tới năm **2020**"
   ]
  },
  {
   "cell_type": "code",
   "execution_count": 6,
   "id": "1c61958f",
   "metadata": {
    "execution": {
     "iopub.execute_input": "2021-10-18T03:02:59.053547Z",
     "iopub.status.busy": "2021-10-18T03:02:59.052643Z",
     "iopub.status.idle": "2021-10-18T03:02:59.098962Z",
     "shell.execute_reply": "2021-10-18T03:02:59.099510Z",
     "shell.execute_reply.started": "2021-10-18T03:01:47.760321Z"
    },
    "papermill": {
     "duration": 0.070863,
     "end_time": "2021-10-18T03:02:59.099687",
     "exception": false,
     "start_time": "2021-10-18T03:02:59.028824",
     "status": "completed"
    },
    "tags": []
   },
   "outputs": [
    {
     "data": {
      "text/html": [
       "<div>\n",
       "<style scoped>\n",
       "    .dataframe tbody tr th:only-of-type {\n",
       "        vertical-align: middle;\n",
       "    }\n",
       "\n",
       "    .dataframe tbody tr th {\n",
       "        vertical-align: top;\n",
       "    }\n",
       "\n",
       "    .dataframe thead th {\n",
       "        text-align: right;\n",
       "    }\n",
       "</style>\n",
       "<table border=\"1\" class=\"dataframe\">\n",
       "  <thead>\n",
       "    <tr style=\"text-align: right;\">\n",
       "      <th></th>\n",
       "      <th>1995</th>\n",
       "      <th>1996</th>\n",
       "      <th>1997</th>\n",
       "      <th>1998</th>\n",
       "      <th>1999</th>\n",
       "      <th>2000</th>\n",
       "      <th>2001</th>\n",
       "      <th>2002</th>\n",
       "      <th>2003</th>\n",
       "      <th>2004</th>\n",
       "      <th>...</th>\n",
       "      <th>2011</th>\n",
       "      <th>2012</th>\n",
       "      <th>2013</th>\n",
       "      <th>2014</th>\n",
       "      <th>2015</th>\n",
       "      <th>2016</th>\n",
       "      <th>2017</th>\n",
       "      <th>2018</th>\n",
       "      <th>2019</th>\n",
       "      <th>2020</th>\n",
       "    </tr>\n",
       "  </thead>\n",
       "  <tbody>\n",
       "    <tr>\n",
       "      <th>VNM</th>\n",
       "      <td>40.17</td>\n",
       "      <td>42.45</td>\n",
       "      <td>43.81</td>\n",
       "      <td>46.99</td>\n",
       "      <td>48.93</td>\n",
       "      <td>48.09</td>\n",
       "      <td>47.88</td>\n",
       "      <td>49.72</td>\n",
       "      <td>51.32</td>\n",
       "      <td>55.30</td>\n",
       "      <td>...</td>\n",
       "      <td>118.68</td>\n",
       "      <td>129.47</td>\n",
       "      <td>138.01</td>\n",
       "      <td>143.64</td>\n",
       "      <td>144.55</td>\n",
       "      <td>148.41</td>\n",
       "      <td>153.63</td>\n",
       "      <td>159.07</td>\n",
       "      <td>163.52</td>\n",
       "      <td>168.78</td>\n",
       "    </tr>\n",
       "  </tbody>\n",
       "</table>\n",
       "<p>1 rows × 26 columns</p>\n",
       "</div>"
      ],
      "text/plain": [
       "     1995  1996  1997  1998  1999  2000  2001  2002  2003  2004  ...   2011  \\\n",
       "VNM 40.17 42.45 43.81 46.99 48.93 48.09 47.88 49.72 51.32 55.30  ... 118.68   \n",
       "\n",
       "      2012   2013   2014   2015   2016   2017   2018   2019   2020  \n",
       "VNM 129.47 138.01 143.64 144.55 148.41 153.63 159.07 163.52 168.78  \n",
       "\n",
       "[1 rows x 26 columns]"
      ]
     },
     "execution_count": 6,
     "metadata": {},
     "output_type": "execute_result"
    }
   ],
   "source": [
    "col_remap = dict(zip(df_wb_cpi.T.columns, df_wb_cpi.T.loc[\"Country Code\"]))\n",
    "\n",
    "dft_vnm = df_vnm.T[4:]\n",
    "dft_vnm.rename(columns = col_remap, inplace = True)\n",
    "dft_vnm.T"
   ]
  },
  {
   "cell_type": "code",
   "execution_count": 7,
   "id": "7ea46420",
   "metadata": {
    "execution": {
     "iopub.execute_input": "2021-10-18T03:02:59.144419Z",
     "iopub.status.busy": "2021-10-18T03:02:59.143437Z",
     "iopub.status.idle": "2021-10-18T03:03:00.032198Z",
     "shell.execute_reply": "2021-10-18T03:03:00.032692Z",
     "shell.execute_reply.started": "2021-10-18T03:01:47.811721Z"
    },
    "papermill": {
     "duration": 0.912975,
     "end_time": "2021-10-18T03:03:00.032854",
     "exception": false,
     "start_time": "2021-10-18T03:02:59.119879",
     "status": "completed"
    },
    "tags": []
   },
   "outputs": [
    {
     "data": {
      "application/vnd.plotly.v1+json": {
       "config": {
        "linkText": "Export to plot.ly",
        "plotlyServerURL": "https://plot.ly",
        "showLink": true
       },
       "data": [
        {
         "line": {
          "color": "rgba(255, 153, 51, 1.0)",
          "dash": "solid",
          "shape": "linear",
          "width": 1.3
         },
         "mode": "lines",
         "name": "VNM",
         "text": "",
         "type": "scatter",
         "x": [
          "1995",
          "1996",
          "1997",
          "1998",
          "1999",
          "2000",
          "2001",
          "2002",
          "2003",
          "2004",
          "2005",
          "2006",
          "2007",
          "2008",
          "2009",
          "2010",
          "2011",
          "2012",
          "2013",
          "2014",
          "2015",
          "2016",
          "2017",
          "2018",
          "2019",
          "2020"
         ],
         "y": [
          40.1657203822899,
          42.4451250139849,
          43.8074123636177,
          46.9905457039141,
          48.9251945689942,
          48.0884087276966,
          47.8808858390548,
          49.7151204031794,
          51.3232296369754,
          55.3033191440045,
          59.8849626753952,
          64.3272394775767,
          69.6949931031089,
          85.8053032346153,
          91.5688306084693,
          100,
          118.677732277071,
          129.471120024261,
          138.006729874285,
          143.643689923265,
          144.550370194288,
          148.407332801278,
          153.631652156685,
          159.069641224583,
          163.516947912918,
          168.783721483338
         ]
        }
       ],
       "layout": {
        "legend": {
         "bgcolor": "#F5F6F9",
         "font": {
          "color": "#4D5663"
         }
        },
        "paper_bgcolor": "#F5F6F9",
        "plot_bgcolor": "#F5F6F9",
        "template": {
         "data": {
          "bar": [
           {
            "error_x": {
             "color": "#2a3f5f"
            },
            "error_y": {
             "color": "#2a3f5f"
            },
            "marker": {
             "line": {
              "color": "#E5ECF6",
              "width": 0.5
             },
             "pattern": {
              "fillmode": "overlay",
              "size": 10,
              "solidity": 0.2
             }
            },
            "type": "bar"
           }
          ],
          "barpolar": [
           {
            "marker": {
             "line": {
              "color": "#E5ECF6",
              "width": 0.5
             },
             "pattern": {
              "fillmode": "overlay",
              "size": 10,
              "solidity": 0.2
             }
            },
            "type": "barpolar"
           }
          ],
          "carpet": [
           {
            "aaxis": {
             "endlinecolor": "#2a3f5f",
             "gridcolor": "white",
             "linecolor": "white",
             "minorgridcolor": "white",
             "startlinecolor": "#2a3f5f"
            },
            "baxis": {
             "endlinecolor": "#2a3f5f",
             "gridcolor": "white",
             "linecolor": "white",
             "minorgridcolor": "white",
             "startlinecolor": "#2a3f5f"
            },
            "type": "carpet"
           }
          ],
          "choropleth": [
           {
            "colorbar": {
             "outlinewidth": 0,
             "ticks": ""
            },
            "type": "choropleth"
           }
          ],
          "contour": [
           {
            "colorbar": {
             "outlinewidth": 0,
             "ticks": ""
            },
            "colorscale": [
             [
              0,
              "#0d0887"
             ],
             [
              0.1111111111111111,
              "#46039f"
             ],
             [
              0.2222222222222222,
              "#7201a8"
             ],
             [
              0.3333333333333333,
              "#9c179e"
             ],
             [
              0.4444444444444444,
              "#bd3786"
             ],
             [
              0.5555555555555556,
              "#d8576b"
             ],
             [
              0.6666666666666666,
              "#ed7953"
             ],
             [
              0.7777777777777778,
              "#fb9f3a"
             ],
             [
              0.8888888888888888,
              "#fdca26"
             ],
             [
              1,
              "#f0f921"
             ]
            ],
            "type": "contour"
           }
          ],
          "contourcarpet": [
           {
            "colorbar": {
             "outlinewidth": 0,
             "ticks": ""
            },
            "type": "contourcarpet"
           }
          ],
          "heatmap": [
           {
            "colorbar": {
             "outlinewidth": 0,
             "ticks": ""
            },
            "colorscale": [
             [
              0,
              "#0d0887"
             ],
             [
              0.1111111111111111,
              "#46039f"
             ],
             [
              0.2222222222222222,
              "#7201a8"
             ],
             [
              0.3333333333333333,
              "#9c179e"
             ],
             [
              0.4444444444444444,
              "#bd3786"
             ],
             [
              0.5555555555555556,
              "#d8576b"
             ],
             [
              0.6666666666666666,
              "#ed7953"
             ],
             [
              0.7777777777777778,
              "#fb9f3a"
             ],
             [
              0.8888888888888888,
              "#fdca26"
             ],
             [
              1,
              "#f0f921"
             ]
            ],
            "type": "heatmap"
           }
          ],
          "heatmapgl": [
           {
            "colorbar": {
             "outlinewidth": 0,
             "ticks": ""
            },
            "colorscale": [
             [
              0,
              "#0d0887"
             ],
             [
              0.1111111111111111,
              "#46039f"
             ],
             [
              0.2222222222222222,
              "#7201a8"
             ],
             [
              0.3333333333333333,
              "#9c179e"
             ],
             [
              0.4444444444444444,
              "#bd3786"
             ],
             [
              0.5555555555555556,
              "#d8576b"
             ],
             [
              0.6666666666666666,
              "#ed7953"
             ],
             [
              0.7777777777777778,
              "#fb9f3a"
             ],
             [
              0.8888888888888888,
              "#fdca26"
             ],
             [
              1,
              "#f0f921"
             ]
            ],
            "type": "heatmapgl"
           }
          ],
          "histogram": [
           {
            "marker": {
             "pattern": {
              "fillmode": "overlay",
              "size": 10,
              "solidity": 0.2
             }
            },
            "type": "histogram"
           }
          ],
          "histogram2d": [
           {
            "colorbar": {
             "outlinewidth": 0,
             "ticks": ""
            },
            "colorscale": [
             [
              0,
              "#0d0887"
             ],
             [
              0.1111111111111111,
              "#46039f"
             ],
             [
              0.2222222222222222,
              "#7201a8"
             ],
             [
              0.3333333333333333,
              "#9c179e"
             ],
             [
              0.4444444444444444,
              "#bd3786"
             ],
             [
              0.5555555555555556,
              "#d8576b"
             ],
             [
              0.6666666666666666,
              "#ed7953"
             ],
             [
              0.7777777777777778,
              "#fb9f3a"
             ],
             [
              0.8888888888888888,
              "#fdca26"
             ],
             [
              1,
              "#f0f921"
             ]
            ],
            "type": "histogram2d"
           }
          ],
          "histogram2dcontour": [
           {
            "colorbar": {
             "outlinewidth": 0,
             "ticks": ""
            },
            "colorscale": [
             [
              0,
              "#0d0887"
             ],
             [
              0.1111111111111111,
              "#46039f"
             ],
             [
              0.2222222222222222,
              "#7201a8"
             ],
             [
              0.3333333333333333,
              "#9c179e"
             ],
             [
              0.4444444444444444,
              "#bd3786"
             ],
             [
              0.5555555555555556,
              "#d8576b"
             ],
             [
              0.6666666666666666,
              "#ed7953"
             ],
             [
              0.7777777777777778,
              "#fb9f3a"
             ],
             [
              0.8888888888888888,
              "#fdca26"
             ],
             [
              1,
              "#f0f921"
             ]
            ],
            "type": "histogram2dcontour"
           }
          ],
          "mesh3d": [
           {
            "colorbar": {
             "outlinewidth": 0,
             "ticks": ""
            },
            "type": "mesh3d"
           }
          ],
          "parcoords": [
           {
            "line": {
             "colorbar": {
              "outlinewidth": 0,
              "ticks": ""
             }
            },
            "type": "parcoords"
           }
          ],
          "pie": [
           {
            "automargin": true,
            "type": "pie"
           }
          ],
          "scatter": [
           {
            "marker": {
             "colorbar": {
              "outlinewidth": 0,
              "ticks": ""
             }
            },
            "type": "scatter"
           }
          ],
          "scatter3d": [
           {
            "line": {
             "colorbar": {
              "outlinewidth": 0,
              "ticks": ""
             }
            },
            "marker": {
             "colorbar": {
              "outlinewidth": 0,
              "ticks": ""
             }
            },
            "type": "scatter3d"
           }
          ],
          "scattercarpet": [
           {
            "marker": {
             "colorbar": {
              "outlinewidth": 0,
              "ticks": ""
             }
            },
            "type": "scattercarpet"
           }
          ],
          "scattergeo": [
           {
            "marker": {
             "colorbar": {
              "outlinewidth": 0,
              "ticks": ""
             }
            },
            "type": "scattergeo"
           }
          ],
          "scattergl": [
           {
            "marker": {
             "colorbar": {
              "outlinewidth": 0,
              "ticks": ""
             }
            },
            "type": "scattergl"
           }
          ],
          "scattermapbox": [
           {
            "marker": {
             "colorbar": {
              "outlinewidth": 0,
              "ticks": ""
             }
            },
            "type": "scattermapbox"
           }
          ],
          "scatterpolar": [
           {
            "marker": {
             "colorbar": {
              "outlinewidth": 0,
              "ticks": ""
             }
            },
            "type": "scatterpolar"
           }
          ],
          "scatterpolargl": [
           {
            "marker": {
             "colorbar": {
              "outlinewidth": 0,
              "ticks": ""
             }
            },
            "type": "scatterpolargl"
           }
          ],
          "scatterternary": [
           {
            "marker": {
             "colorbar": {
              "outlinewidth": 0,
              "ticks": ""
             }
            },
            "type": "scatterternary"
           }
          ],
          "surface": [
           {
            "colorbar": {
             "outlinewidth": 0,
             "ticks": ""
            },
            "colorscale": [
             [
              0,
              "#0d0887"
             ],
             [
              0.1111111111111111,
              "#46039f"
             ],
             [
              0.2222222222222222,
              "#7201a8"
             ],
             [
              0.3333333333333333,
              "#9c179e"
             ],
             [
              0.4444444444444444,
              "#bd3786"
             ],
             [
              0.5555555555555556,
              "#d8576b"
             ],
             [
              0.6666666666666666,
              "#ed7953"
             ],
             [
              0.7777777777777778,
              "#fb9f3a"
             ],
             [
              0.8888888888888888,
              "#fdca26"
             ],
             [
              1,
              "#f0f921"
             ]
            ],
            "type": "surface"
           }
          ],
          "table": [
           {
            "cells": {
             "fill": {
              "color": "#EBF0F8"
             },
             "line": {
              "color": "white"
             }
            },
            "header": {
             "fill": {
              "color": "#C8D4E3"
             },
             "line": {
              "color": "white"
             }
            },
            "type": "table"
           }
          ]
         },
         "layout": {
          "annotationdefaults": {
           "arrowcolor": "#2a3f5f",
           "arrowhead": 0,
           "arrowwidth": 1
          },
          "autotypenumbers": "strict",
          "coloraxis": {
           "colorbar": {
            "outlinewidth": 0,
            "ticks": ""
           }
          },
          "colorscale": {
           "diverging": [
            [
             0,
             "#8e0152"
            ],
            [
             0.1,
             "#c51b7d"
            ],
            [
             0.2,
             "#de77ae"
            ],
            [
             0.3,
             "#f1b6da"
            ],
            [
             0.4,
             "#fde0ef"
            ],
            [
             0.5,
             "#f7f7f7"
            ],
            [
             0.6,
             "#e6f5d0"
            ],
            [
             0.7,
             "#b8e186"
            ],
            [
             0.8,
             "#7fbc41"
            ],
            [
             0.9,
             "#4d9221"
            ],
            [
             1,
             "#276419"
            ]
           ],
           "sequential": [
            [
             0,
             "#0d0887"
            ],
            [
             0.1111111111111111,
             "#46039f"
            ],
            [
             0.2222222222222222,
             "#7201a8"
            ],
            [
             0.3333333333333333,
             "#9c179e"
            ],
            [
             0.4444444444444444,
             "#bd3786"
            ],
            [
             0.5555555555555556,
             "#d8576b"
            ],
            [
             0.6666666666666666,
             "#ed7953"
            ],
            [
             0.7777777777777778,
             "#fb9f3a"
            ],
            [
             0.8888888888888888,
             "#fdca26"
            ],
            [
             1,
             "#f0f921"
            ]
           ],
           "sequentialminus": [
            [
             0,
             "#0d0887"
            ],
            [
             0.1111111111111111,
             "#46039f"
            ],
            [
             0.2222222222222222,
             "#7201a8"
            ],
            [
             0.3333333333333333,
             "#9c179e"
            ],
            [
             0.4444444444444444,
             "#bd3786"
            ],
            [
             0.5555555555555556,
             "#d8576b"
            ],
            [
             0.6666666666666666,
             "#ed7953"
            ],
            [
             0.7777777777777778,
             "#fb9f3a"
            ],
            [
             0.8888888888888888,
             "#fdca26"
            ],
            [
             1,
             "#f0f921"
            ]
           ]
          },
          "colorway": [
           "#636efa",
           "#EF553B",
           "#00cc96",
           "#ab63fa",
           "#FFA15A",
           "#19d3f3",
           "#FF6692",
           "#B6E880",
           "#FF97FF",
           "#FECB52"
          ],
          "font": {
           "color": "#2a3f5f"
          },
          "geo": {
           "bgcolor": "white",
           "lakecolor": "white",
           "landcolor": "#E5ECF6",
           "showlakes": true,
           "showland": true,
           "subunitcolor": "white"
          },
          "hoverlabel": {
           "align": "left"
          },
          "hovermode": "closest",
          "mapbox": {
           "style": "light"
          },
          "paper_bgcolor": "white",
          "plot_bgcolor": "#E5ECF6",
          "polar": {
           "angularaxis": {
            "gridcolor": "white",
            "linecolor": "white",
            "ticks": ""
           },
           "bgcolor": "#E5ECF6",
           "radialaxis": {
            "gridcolor": "white",
            "linecolor": "white",
            "ticks": ""
           }
          },
          "scene": {
           "xaxis": {
            "backgroundcolor": "#E5ECF6",
            "gridcolor": "white",
            "gridwidth": 2,
            "linecolor": "white",
            "showbackground": true,
            "ticks": "",
            "zerolinecolor": "white"
           },
           "yaxis": {
            "backgroundcolor": "#E5ECF6",
            "gridcolor": "white",
            "gridwidth": 2,
            "linecolor": "white",
            "showbackground": true,
            "ticks": "",
            "zerolinecolor": "white"
           },
           "zaxis": {
            "backgroundcolor": "#E5ECF6",
            "gridcolor": "white",
            "gridwidth": 2,
            "linecolor": "white",
            "showbackground": true,
            "ticks": "",
            "zerolinecolor": "white"
           }
          },
          "shapedefaults": {
           "line": {
            "color": "#2a3f5f"
           }
          },
          "ternary": {
           "aaxis": {
            "gridcolor": "white",
            "linecolor": "white",
            "ticks": ""
           },
           "baxis": {
            "gridcolor": "white",
            "linecolor": "white",
            "ticks": ""
           },
           "bgcolor": "#E5ECF6",
           "caxis": {
            "gridcolor": "white",
            "linecolor": "white",
            "ticks": ""
           }
          },
          "title": {
           "x": 0.05
          },
          "xaxis": {
           "automargin": true,
           "gridcolor": "white",
           "linecolor": "white",
           "ticks": "",
           "title": {
            "standoff": 15
           },
           "zerolinecolor": "white",
           "zerolinewidth": 2
          },
          "yaxis": {
           "automargin": true,
           "gridcolor": "white",
           "linecolor": "white",
           "ticks": "",
           "title": {
            "standoff": 15
           },
           "zerolinecolor": "white",
           "zerolinewidth": 2
          }
         }
        },
        "title": {
         "font": {
          "color": "#4D5663"
         },
         "text": "VietNam CPI - 2020, World Bank"
        },
        "xaxis": {
         "gridcolor": "#E1E5ED",
         "showgrid": true,
         "tickfont": {
          "color": "#4D5663"
         },
         "title": {
          "font": {
           "color": "#4D5663"
          },
          "text": "Years"
         },
         "zerolinecolor": "#E1E5ED"
        },
        "yaxis": {
         "gridcolor": "#E1E5ED",
         "showgrid": true,
         "tickfont": {
          "color": "#4D5663"
         },
         "title": {
          "font": {
           "color": "#4D5663"
          },
          "text": "X% vs 2010"
         },
         "zerolinecolor": "#E1E5ED"
        }
       }
      },
      "text/html": [
       "<div>                            <div id=\"35b00cfa-41be-48ec-b4e6-0bc884f8ec92\" class=\"plotly-graph-div\" style=\"height:525px; width:100%;\"></div>            <script type=\"text/javascript\">                require([\"plotly\"], function(Plotly) {                    window.PLOTLYENV=window.PLOTLYENV || {};\n",
       "                    window.PLOTLYENV.BASE_URL='https://plot.ly';                                    if (document.getElementById(\"35b00cfa-41be-48ec-b4e6-0bc884f8ec92\")) {                    Plotly.newPlot(                        \"35b00cfa-41be-48ec-b4e6-0bc884f8ec92\",                        [{\"line\":{\"color\":\"rgba(255, 153, 51, 1.0)\",\"dash\":\"solid\",\"shape\":\"linear\",\"width\":1.3},\"mode\":\"lines\",\"name\":\"VNM\",\"text\":\"\",\"type\":\"scatter\",\"x\":[\"1995\",\"1996\",\"1997\",\"1998\",\"1999\",\"2000\",\"2001\",\"2002\",\"2003\",\"2004\",\"2005\",\"2006\",\"2007\",\"2008\",\"2009\",\"2010\",\"2011\",\"2012\",\"2013\",\"2014\",\"2015\",\"2016\",\"2017\",\"2018\",\"2019\",\"2020\"],\"y\":[40.1657203822899,42.4451250139849,43.8074123636177,46.9905457039141,48.9251945689942,48.0884087276966,47.8808858390548,49.7151204031794,51.3232296369754,55.3033191440045,59.8849626753952,64.3272394775767,69.6949931031089,85.8053032346153,91.5688306084693,100.0,118.677732277071,129.471120024261,138.006729874285,143.643689923265,144.550370194288,148.407332801278,153.631652156685,159.069641224583,163.516947912918,168.783721483338]}],                        {\"legend\":{\"bgcolor\":\"#F5F6F9\",\"font\":{\"color\":\"#4D5663\"}},\"paper_bgcolor\":\"#F5F6F9\",\"plot_bgcolor\":\"#F5F6F9\",\"template\":{\"data\":{\"bar\":[{\"error_x\":{\"color\":\"#2a3f5f\"},\"error_y\":{\"color\":\"#2a3f5f\"},\"marker\":{\"line\":{\"color\":\"#E5ECF6\",\"width\":0.5},\"pattern\":{\"fillmode\":\"overlay\",\"size\":10,\"solidity\":0.2}},\"type\":\"bar\"}],\"barpolar\":[{\"marker\":{\"line\":{\"color\":\"#E5ECF6\",\"width\":0.5},\"pattern\":{\"fillmode\":\"overlay\",\"size\":10,\"solidity\":0.2}},\"type\":\"barpolar\"}],\"carpet\":[{\"aaxis\":{\"endlinecolor\":\"#2a3f5f\",\"gridcolor\":\"white\",\"linecolor\":\"white\",\"minorgridcolor\":\"white\",\"startlinecolor\":\"#2a3f5f\"},\"baxis\":{\"endlinecolor\":\"#2a3f5f\",\"gridcolor\":\"white\",\"linecolor\":\"white\",\"minorgridcolor\":\"white\",\"startlinecolor\":\"#2a3f5f\"},\"type\":\"carpet\"}],\"choropleth\":[{\"colorbar\":{\"outlinewidth\":0,\"ticks\":\"\"},\"type\":\"choropleth\"}],\"contour\":[{\"colorbar\":{\"outlinewidth\":0,\"ticks\":\"\"},\"colorscale\":[[0.0,\"#0d0887\"],[0.1111111111111111,\"#46039f\"],[0.2222222222222222,\"#7201a8\"],[0.3333333333333333,\"#9c179e\"],[0.4444444444444444,\"#bd3786\"],[0.5555555555555556,\"#d8576b\"],[0.6666666666666666,\"#ed7953\"],[0.7777777777777778,\"#fb9f3a\"],[0.8888888888888888,\"#fdca26\"],[1.0,\"#f0f921\"]],\"type\":\"contour\"}],\"contourcarpet\":[{\"colorbar\":{\"outlinewidth\":0,\"ticks\":\"\"},\"type\":\"contourcarpet\"}],\"heatmap\":[{\"colorbar\":{\"outlinewidth\":0,\"ticks\":\"\"},\"colorscale\":[[0.0,\"#0d0887\"],[0.1111111111111111,\"#46039f\"],[0.2222222222222222,\"#7201a8\"],[0.3333333333333333,\"#9c179e\"],[0.4444444444444444,\"#bd3786\"],[0.5555555555555556,\"#d8576b\"],[0.6666666666666666,\"#ed7953\"],[0.7777777777777778,\"#fb9f3a\"],[0.8888888888888888,\"#fdca26\"],[1.0,\"#f0f921\"]],\"type\":\"heatmap\"}],\"heatmapgl\":[{\"colorbar\":{\"outlinewidth\":0,\"ticks\":\"\"},\"colorscale\":[[0.0,\"#0d0887\"],[0.1111111111111111,\"#46039f\"],[0.2222222222222222,\"#7201a8\"],[0.3333333333333333,\"#9c179e\"],[0.4444444444444444,\"#bd3786\"],[0.5555555555555556,\"#d8576b\"],[0.6666666666666666,\"#ed7953\"],[0.7777777777777778,\"#fb9f3a\"],[0.8888888888888888,\"#fdca26\"],[1.0,\"#f0f921\"]],\"type\":\"heatmapgl\"}],\"histogram\":[{\"marker\":{\"pattern\":{\"fillmode\":\"overlay\",\"size\":10,\"solidity\":0.2}},\"type\":\"histogram\"}],\"histogram2d\":[{\"colorbar\":{\"outlinewidth\":0,\"ticks\":\"\"},\"colorscale\":[[0.0,\"#0d0887\"],[0.1111111111111111,\"#46039f\"],[0.2222222222222222,\"#7201a8\"],[0.3333333333333333,\"#9c179e\"],[0.4444444444444444,\"#bd3786\"],[0.5555555555555556,\"#d8576b\"],[0.6666666666666666,\"#ed7953\"],[0.7777777777777778,\"#fb9f3a\"],[0.8888888888888888,\"#fdca26\"],[1.0,\"#f0f921\"]],\"type\":\"histogram2d\"}],\"histogram2dcontour\":[{\"colorbar\":{\"outlinewidth\":0,\"ticks\":\"\"},\"colorscale\":[[0.0,\"#0d0887\"],[0.1111111111111111,\"#46039f\"],[0.2222222222222222,\"#7201a8\"],[0.3333333333333333,\"#9c179e\"],[0.4444444444444444,\"#bd3786\"],[0.5555555555555556,\"#d8576b\"],[0.6666666666666666,\"#ed7953\"],[0.7777777777777778,\"#fb9f3a\"],[0.8888888888888888,\"#fdca26\"],[1.0,\"#f0f921\"]],\"type\":\"histogram2dcontour\"}],\"mesh3d\":[{\"colorbar\":{\"outlinewidth\":0,\"ticks\":\"\"},\"type\":\"mesh3d\"}],\"parcoords\":[{\"line\":{\"colorbar\":{\"outlinewidth\":0,\"ticks\":\"\"}},\"type\":\"parcoords\"}],\"pie\":[{\"automargin\":true,\"type\":\"pie\"}],\"scatter\":[{\"marker\":{\"colorbar\":{\"outlinewidth\":0,\"ticks\":\"\"}},\"type\":\"scatter\"}],\"scatter3d\":[{\"line\":{\"colorbar\":{\"outlinewidth\":0,\"ticks\":\"\"}},\"marker\":{\"colorbar\":{\"outlinewidth\":0,\"ticks\":\"\"}},\"type\":\"scatter3d\"}],\"scattercarpet\":[{\"marker\":{\"colorbar\":{\"outlinewidth\":0,\"ticks\":\"\"}},\"type\":\"scattercarpet\"}],\"scattergeo\":[{\"marker\":{\"colorbar\":{\"outlinewidth\":0,\"ticks\":\"\"}},\"type\":\"scattergeo\"}],\"scattergl\":[{\"marker\":{\"colorbar\":{\"outlinewidth\":0,\"ticks\":\"\"}},\"type\":\"scattergl\"}],\"scattermapbox\":[{\"marker\":{\"colorbar\":{\"outlinewidth\":0,\"ticks\":\"\"}},\"type\":\"scattermapbox\"}],\"scatterpolar\":[{\"marker\":{\"colorbar\":{\"outlinewidth\":0,\"ticks\":\"\"}},\"type\":\"scatterpolar\"}],\"scatterpolargl\":[{\"marker\":{\"colorbar\":{\"outlinewidth\":0,\"ticks\":\"\"}},\"type\":\"scatterpolargl\"}],\"scatterternary\":[{\"marker\":{\"colorbar\":{\"outlinewidth\":0,\"ticks\":\"\"}},\"type\":\"scatterternary\"}],\"surface\":[{\"colorbar\":{\"outlinewidth\":0,\"ticks\":\"\"},\"colorscale\":[[0.0,\"#0d0887\"],[0.1111111111111111,\"#46039f\"],[0.2222222222222222,\"#7201a8\"],[0.3333333333333333,\"#9c179e\"],[0.4444444444444444,\"#bd3786\"],[0.5555555555555556,\"#d8576b\"],[0.6666666666666666,\"#ed7953\"],[0.7777777777777778,\"#fb9f3a\"],[0.8888888888888888,\"#fdca26\"],[1.0,\"#f0f921\"]],\"type\":\"surface\"}],\"table\":[{\"cells\":{\"fill\":{\"color\":\"#EBF0F8\"},\"line\":{\"color\":\"white\"}},\"header\":{\"fill\":{\"color\":\"#C8D4E3\"},\"line\":{\"color\":\"white\"}},\"type\":\"table\"}]},\"layout\":{\"annotationdefaults\":{\"arrowcolor\":\"#2a3f5f\",\"arrowhead\":0,\"arrowwidth\":1},\"autotypenumbers\":\"strict\",\"coloraxis\":{\"colorbar\":{\"outlinewidth\":0,\"ticks\":\"\"}},\"colorscale\":{\"diverging\":[[0,\"#8e0152\"],[0.1,\"#c51b7d\"],[0.2,\"#de77ae\"],[0.3,\"#f1b6da\"],[0.4,\"#fde0ef\"],[0.5,\"#f7f7f7\"],[0.6,\"#e6f5d0\"],[0.7,\"#b8e186\"],[0.8,\"#7fbc41\"],[0.9,\"#4d9221\"],[1,\"#276419\"]],\"sequential\":[[0.0,\"#0d0887\"],[0.1111111111111111,\"#46039f\"],[0.2222222222222222,\"#7201a8\"],[0.3333333333333333,\"#9c179e\"],[0.4444444444444444,\"#bd3786\"],[0.5555555555555556,\"#d8576b\"],[0.6666666666666666,\"#ed7953\"],[0.7777777777777778,\"#fb9f3a\"],[0.8888888888888888,\"#fdca26\"],[1.0,\"#f0f921\"]],\"sequentialminus\":[[0.0,\"#0d0887\"],[0.1111111111111111,\"#46039f\"],[0.2222222222222222,\"#7201a8\"],[0.3333333333333333,\"#9c179e\"],[0.4444444444444444,\"#bd3786\"],[0.5555555555555556,\"#d8576b\"],[0.6666666666666666,\"#ed7953\"],[0.7777777777777778,\"#fb9f3a\"],[0.8888888888888888,\"#fdca26\"],[1.0,\"#f0f921\"]]},\"colorway\":[\"#636efa\",\"#EF553B\",\"#00cc96\",\"#ab63fa\",\"#FFA15A\",\"#19d3f3\",\"#FF6692\",\"#B6E880\",\"#FF97FF\",\"#FECB52\"],\"font\":{\"color\":\"#2a3f5f\"},\"geo\":{\"bgcolor\":\"white\",\"lakecolor\":\"white\",\"landcolor\":\"#E5ECF6\",\"showlakes\":true,\"showland\":true,\"subunitcolor\":\"white\"},\"hoverlabel\":{\"align\":\"left\"},\"hovermode\":\"closest\",\"mapbox\":{\"style\":\"light\"},\"paper_bgcolor\":\"white\",\"plot_bgcolor\":\"#E5ECF6\",\"polar\":{\"angularaxis\":{\"gridcolor\":\"white\",\"linecolor\":\"white\",\"ticks\":\"\"},\"bgcolor\":\"#E5ECF6\",\"radialaxis\":{\"gridcolor\":\"white\",\"linecolor\":\"white\",\"ticks\":\"\"}},\"scene\":{\"xaxis\":{\"backgroundcolor\":\"#E5ECF6\",\"gridcolor\":\"white\",\"gridwidth\":2,\"linecolor\":\"white\",\"showbackground\":true,\"ticks\":\"\",\"zerolinecolor\":\"white\"},\"yaxis\":{\"backgroundcolor\":\"#E5ECF6\",\"gridcolor\":\"white\",\"gridwidth\":2,\"linecolor\":\"white\",\"showbackground\":true,\"ticks\":\"\",\"zerolinecolor\":\"white\"},\"zaxis\":{\"backgroundcolor\":\"#E5ECF6\",\"gridcolor\":\"white\",\"gridwidth\":2,\"linecolor\":\"white\",\"showbackground\":true,\"ticks\":\"\",\"zerolinecolor\":\"white\"}},\"shapedefaults\":{\"line\":{\"color\":\"#2a3f5f\"}},\"ternary\":{\"aaxis\":{\"gridcolor\":\"white\",\"linecolor\":\"white\",\"ticks\":\"\"},\"baxis\":{\"gridcolor\":\"white\",\"linecolor\":\"white\",\"ticks\":\"\"},\"bgcolor\":\"#E5ECF6\",\"caxis\":{\"gridcolor\":\"white\",\"linecolor\":\"white\",\"ticks\":\"\"}},\"title\":{\"x\":0.05},\"xaxis\":{\"automargin\":true,\"gridcolor\":\"white\",\"linecolor\":\"white\",\"ticks\":\"\",\"title\":{\"standoff\":15},\"zerolinecolor\":\"white\",\"zerolinewidth\":2},\"yaxis\":{\"automargin\":true,\"gridcolor\":\"white\",\"linecolor\":\"white\",\"ticks\":\"\",\"title\":{\"standoff\":15},\"zerolinecolor\":\"white\",\"zerolinewidth\":2}}},\"title\":{\"font\":{\"color\":\"#4D5663\"},\"text\":\"VietNam CPI - 2020, World Bank\"},\"xaxis\":{\"gridcolor\":\"#E1E5ED\",\"showgrid\":true,\"tickfont\":{\"color\":\"#4D5663\"},\"title\":{\"font\":{\"color\":\"#4D5663\"},\"text\":\"Years\"},\"zerolinecolor\":\"#E1E5ED\"},\"yaxis\":{\"gridcolor\":\"#E1E5ED\",\"showgrid\":true,\"tickfont\":{\"color\":\"#4D5663\"},\"title\":{\"font\":{\"color\":\"#4D5663\"},\"text\":\"X% vs 2010\"},\"zerolinecolor\":\"#E1E5ED\"}},                        {\"showLink\": true, \"linkText\": \"Export to plot.ly\", \"plotlyServerURL\": \"https://plot.ly\", \"responsive\": true}                    ).then(function(){\n",
       "                            \n",
       "var gd = document.getElementById('35b00cfa-41be-48ec-b4e6-0bc884f8ec92');\n",
       "var x = new MutationObserver(function (mutations, observer) {{\n",
       "        var display = window.getComputedStyle(gd).display;\n",
       "        if (!display || display === 'none') {{\n",
       "            console.log([gd, 'removed!']);\n",
       "            Plotly.purge(gd);\n",
       "            observer.disconnect();\n",
       "        }}\n",
       "}});\n",
       "\n",
       "// Listen for the removal of the full notebook cells\n",
       "var notebookContainer = gd.closest('#notebook-container');\n",
       "if (notebookContainer) {{\n",
       "    x.observe(notebookContainer, {childList: true});\n",
       "}}\n",
       "\n",
       "// Listen for the clearing of the current output cell\n",
       "var outputEl = gd.closest('.output');\n",
       "if (outputEl) {{\n",
       "    x.observe(outputEl, {childList: true});\n",
       "}}\n",
       "\n",
       "                        })                };                });            </script>        </div>"
      ]
     },
     "metadata": {},
     "output_type": "display_data"
    }
   ],
   "source": [
    "dft_vnm.iplot(kind=\"line\", title = \"VietNam CPI - 2020, World Bank\"\n",
    "              , yTitle = \"X% vs 2010\", xTitle = \"Years\")"
   ]
  },
  {
   "cell_type": "markdown",
   "id": "fadf9ef1",
   "metadata": {
    "papermill": {
     "duration": 0.026362,
     "end_time": "2021-10-18T03:03:00.086063",
     "exception": false,
     "start_time": "2021-10-18T03:03:00.059701",
     "status": "completed"
    },
    "tags": []
   },
   "source": [
    "### Sơ lược:\n",
    "* Từ năm 2010 tới năm 2020 chỉ số giá tiêu dùng tăng 1.68 (168%).\n",
    "* Năm 2000 cpi = 48% so với năm 2010, nghĩa là giá tiêu dùng cơ bản tăng gấp đôi qua 10 năm\n",
    "* Năm 1995 cpi = 40% so với năm 2020 cpi = 160%, giá tiêu dùng tăng 4 lần kể từ năm 1995."
   ]
  },
  {
   "cell_type": "markdown",
   "id": "65c3f75e",
   "metadata": {
    "papermill": {
     "duration": 0.026263,
     "end_time": "2021-10-18T03:03:00.138850",
     "exception": false,
     "start_time": "2021-10-18T03:03:00.112587",
     "status": "completed"
    },
    "tags": []
   },
   "source": [
    "### Câu hỏi nghiên cứu\n",
    "* ~~2.1. CPI Việt Nam so với~~ Mỹ, Trung Quốc, Pháp, Đan Mạch, và hàng xóm Singapore, Thái Lan có khác nhau?\n",
    "* 2.2. Yếu tố nào có biến động tương đương, bằng hoặc cao hơn CPI từ năm 1995 tới năm 2020?\n",
    "  * Vàng, bất động sản?\n",
    "  * Chứng khoán, cố phiếu?\n",
    "  * Bảo hiểm? Bảo hiểm xã hội?\n",
    "  * Lãi suất ngân hàng (gửi tiết kiệm)?\n",
    "  * GDP, PPP\n",
    "* 2.3. Một cái Tivi, Tủ lạnh, hoặc hàng tiêu dùng giá 1 triệu năm 1995 so với năm 2020 có gấp 4 lần như chỉ số CPI từ World Bank?\n",
    "* 2.4. CPI Việt Nam theo cách nhóm hàng tiêu dùng có khác nhau nhiều từ 1995?"
   ]
  },
  {
   "cell_type": "markdown",
   "id": "86a42009",
   "metadata": {
    "papermill": {
     "duration": 0.026266,
     "end_time": "2021-10-18T03:03:00.192072",
     "exception": false,
     "start_time": "2021-10-18T03:03:00.165806",
     "status": "completed"
    },
    "tags": []
   },
   "source": [
    "## 3. So sánh CPI Vietnam và các nước"
   ]
  },
  {
   "cell_type": "markdown",
   "id": "0b235f47",
   "metadata": {
    "papermill": {
     "duration": 0.026423,
     "end_time": "2021-10-18T03:03:00.302676",
     "exception": false,
     "start_time": "2021-10-18T03:03:00.276253",
     "status": "completed"
    },
    "tags": []
   },
   "source": [
    "> Trả lời câu hỏi 2.1\n",
    "\n",
    "Để thấy được tương quan CPI giữa Việt Nam và các nước, chúng ta sẽ thử so sánh CPI VN với một vài nước đại diện sau đây:\n",
    "* Bắc Mỹ: Mỹ\n",
    "* Tây Âu: Pháp\n",
    "* Bắc Âu: Đan Mạch\n",
    "* Tây Á : UAE (Ả Rập)\n",
    "* Châu Á: Trung Quốc, Hàn Quốc\n",
    "* Hàng xóm: Thái Lan, Singapore, và Lào\n"
   ]
  },
  {
   "cell_type": "code",
   "execution_count": 8,
   "id": "9d98b3fe",
   "metadata": {
    "execution": {
     "iopub.execute_input": "2021-10-18T03:03:00.369740Z",
     "iopub.status.busy": "2021-10-18T03:03:00.361282Z",
     "iopub.status.idle": "2021-10-18T03:03:00.383066Z",
     "shell.execute_reply": "2021-10-18T03:03:00.383593Z",
     "shell.execute_reply.started": "2021-10-18T03:01:47.874566Z"
    },
    "papermill": {
     "duration": 0.054155,
     "end_time": "2021-10-18T03:03:00.383767",
     "exception": false,
     "start_time": "2021-10-18T03:03:00.329612",
     "status": "completed"
    },
    "tags": []
   },
   "outputs": [],
   "source": [
    "country_codes = ['VNM', 'USA', 'FRA', 'DNK', 'ARE', 'CHN', 'KOR', 'THA', 'SGP', 'LAO']\n",
    "col_remap = dict(zip(df_wb_cpi.T.columns, df_wb_cpi.T.loc[\"Country Code\"]))"
   ]
  },
  {
   "cell_type": "code",
   "execution_count": 9,
   "id": "69fc7424",
   "metadata": {
    "execution": {
     "iopub.execute_input": "2021-10-18T03:03:00.455594Z",
     "iopub.status.busy": "2021-10-18T03:03:00.454907Z",
     "iopub.status.idle": "2021-10-18T03:03:00.457741Z",
     "shell.execute_reply": "2021-10-18T03:03:00.458251Z",
     "shell.execute_reply.started": "2021-10-18T03:01:47.905486Z"
    },
    "papermill": {
     "duration": 0.047855,
     "end_time": "2021-10-18T03:03:00.458432",
     "exception": false,
     "start_time": "2021-10-18T03:03:00.410577",
     "status": "completed"
    },
    "tags": []
   },
   "outputs": [
    {
     "data": {
      "text/html": [
       "<div>\n",
       "<style scoped>\n",
       "    .dataframe tbody tr th:only-of-type {\n",
       "        vertical-align: middle;\n",
       "    }\n",
       "\n",
       "    .dataframe tbody tr th {\n",
       "        vertical-align: top;\n",
       "    }\n",
       "\n",
       "    .dataframe thead th {\n",
       "        text-align: right;\n",
       "    }\n",
       "</style>\n",
       "<table border=\"1\" class=\"dataframe\">\n",
       "  <thead>\n",
       "    <tr style=\"text-align: right;\">\n",
       "      <th></th>\n",
       "      <th>ARE</th>\n",
       "      <th>CHN</th>\n",
       "      <th>DNK</th>\n",
       "      <th>FRA</th>\n",
       "      <th>KOR</th>\n",
       "      <th>LAO</th>\n",
       "      <th>SGP</th>\n",
       "      <th>THA</th>\n",
       "      <th>USA</th>\n",
       "      <th>VNM</th>\n",
       "    </tr>\n",
       "  </thead>\n",
       "  <tbody>\n",
       "    <tr>\n",
       "      <th>1960</th>\n",
       "      <td>NaN</td>\n",
       "      <td>NaN</td>\n",
       "      <td>8.25</td>\n",
       "      <td>10.43</td>\n",
       "      <td>1.48</td>\n",
       "      <td>NaN</td>\n",
       "      <td>27.52</td>\n",
       "      <td>10.21</td>\n",
       "      <td>13.56</td>\n",
       "      <td>NaN</td>\n",
       "    </tr>\n",
       "    <tr>\n",
       "      <th>1961</th>\n",
       "      <td>NaN</td>\n",
       "      <td>NaN</td>\n",
       "      <td>8.53</td>\n",
       "      <td>10.68</td>\n",
       "      <td>1.60</td>\n",
       "      <td>NaN</td>\n",
       "      <td>27.63</td>\n",
       "      <td>10.97</td>\n",
       "      <td>13.71</td>\n",
       "      <td>NaN</td>\n",
       "    </tr>\n",
       "    <tr>\n",
       "      <th>1962</th>\n",
       "      <td>NaN</td>\n",
       "      <td>NaN</td>\n",
       "      <td>9.16</td>\n",
       "      <td>11.25</td>\n",
       "      <td>1.70</td>\n",
       "      <td>NaN</td>\n",
       "      <td>27.75</td>\n",
       "      <td>11.37</td>\n",
       "      <td>13.87</td>\n",
       "      <td>NaN</td>\n",
       "    </tr>\n",
       "    <tr>\n",
       "      <th>1963</th>\n",
       "      <td>NaN</td>\n",
       "      <td>NaN</td>\n",
       "      <td>9.72</td>\n",
       "      <td>11.82</td>\n",
       "      <td>2.06</td>\n",
       "      <td>NaN</td>\n",
       "      <td>28.36</td>\n",
       "      <td>11.37</td>\n",
       "      <td>14.04</td>\n",
       "      <td>NaN</td>\n",
       "    </tr>\n",
       "    <tr>\n",
       "      <th>1964</th>\n",
       "      <td>NaN</td>\n",
       "      <td>NaN</td>\n",
       "      <td>10.02</td>\n",
       "      <td>12.20</td>\n",
       "      <td>2.66</td>\n",
       "      <td>NaN</td>\n",
       "      <td>28.85</td>\n",
       "      <td>11.28</td>\n",
       "      <td>14.22</td>\n",
       "      <td>NaN</td>\n",
       "    </tr>\n",
       "  </tbody>\n",
       "</table>\n",
       "</div>"
      ],
      "text/plain": [
       "      ARE  CHN   DNK   FRA  KOR  LAO   SGP   THA   USA  VNM\n",
       "1960  NaN  NaN  8.25 10.43 1.48  NaN 27.52 10.21 13.56  NaN\n",
       "1961  NaN  NaN  8.53 10.68 1.60  NaN 27.63 10.97 13.71  NaN\n",
       "1962  NaN  NaN  9.16 11.25 1.70  NaN 27.75 11.37 13.87  NaN\n",
       "1963  NaN  NaN  9.72 11.82 2.06  NaN 28.36 11.37 14.04  NaN\n",
       "1964  NaN  NaN 10.02 12.20 2.66  NaN 28.85 11.28 14.22  NaN"
      ]
     },
     "execution_count": 9,
     "metadata": {},
     "output_type": "execute_result"
    }
   ],
   "source": [
    "df_cpi = df_wb_cpi[df_wb_cpi[\"Country Code\"].isin(country_codes)].copy()\n",
    "# df_cpi = df_cpi.dropna(axis = 1)\n",
    "\n",
    "dft_cpi = df_cpi.T[4:]\n",
    "dft_cpi.rename(columns = col_remap, inplace = True)\n",
    "dft_cpi.head()"
   ]
  },
  {
   "cell_type": "code",
   "execution_count": 10,
   "id": "19b12b96",
   "metadata": {
    "execution": {
     "iopub.execute_input": "2021-10-18T03:03:00.517558Z",
     "iopub.status.busy": "2021-10-18T03:03:00.516159Z",
     "iopub.status.idle": "2021-10-18T03:03:00.580212Z",
     "shell.execute_reply": "2021-10-18T03:03:00.580719Z",
     "shell.execute_reply.started": "2021-10-18T03:01:47.930243Z"
    },
    "papermill": {
     "duration": 0.095109,
     "end_time": "2021-10-18T03:03:00.580882",
     "exception": false,
     "start_time": "2021-10-18T03:03:00.485773",
     "status": "completed"
    },
    "tags": []
   },
   "outputs": [
    {
     "data": {
      "application/vnd.plotly.v1+json": {
       "config": {
        "linkText": "Export to plot.ly",
        "plotlyServerURL": "https://plot.ly",
        "showLink": true
       },
       "data": [
        {
         "line": {
          "color": "rgba(255, 153, 51, 1.0)",
          "dash": "solid",
          "shape": "linear",
          "width": 1.3
         },
         "mode": "lines",
         "name": "ARE",
         "text": "",
         "type": "scatter",
         "x": [
          "1960",
          "1961",
          "1962",
          "1963",
          "1964",
          "1965",
          "1966",
          "1967",
          "1968",
          "1969",
          "1970",
          "1971",
          "1972",
          "1973",
          "1974",
          "1975",
          "1976",
          "1977",
          "1978",
          "1979",
          "1980",
          "1981",
          "1982",
          "1983",
          "1984",
          "1985",
          "1986",
          "1987",
          "1988",
          "1989",
          "1990",
          "1991",
          "1992",
          "1993",
          "1994",
          "1995",
          "1996",
          "1997",
          "1998",
          "1999",
          "2000",
          "2001",
          "2002",
          "2003",
          "2004",
          "2005",
          "2006",
          "2007",
          "2008",
          "2009",
          "2010",
          "2011",
          "2012",
          "2013",
          "2014",
          "2015",
          "2016",
          "2017",
          "2018",
          "2019",
          "2020"
         ],
         "y": [
          "",
          "",
          "",
          "",
          "",
          "",
          "",
          "",
          "",
          "",
          "",
          "",
          "",
          "",
          "",
          "",
          "",
          "",
          "",
          "",
          "",
          "",
          "",
          "",
          "",
          "",
          "",
          "",
          "",
          "",
          "",
          "",
          "",
          "",
          "",
          "",
          "",
          "",
          "",
          "",
          "",
          "",
          "",
          "",
          "",
          "",
          "",
          86.9531235204222,
          97.605246567666,
          99.1296581675539,
          100,
          100.877346595685,
          101.545425889605,
          102.663561221631,
          105.072324180443,
          109.348732137854,
          111.117434855702,
          113.302920986271,
          116.779772707568,
          114.524660532343,
          112.143231100025
         ]
        },
        {
         "line": {
          "color": "rgba(55, 128, 191, 1.0)",
          "dash": "solid",
          "shape": "linear",
          "width": 1.3
         },
         "mode": "lines",
         "name": "CHN",
         "text": "",
         "type": "scatter",
         "x": [
          "1960",
          "1961",
          "1962",
          "1963",
          "1964",
          "1965",
          "1966",
          "1967",
          "1968",
          "1969",
          "1970",
          "1971",
          "1972",
          "1973",
          "1974",
          "1975",
          "1976",
          "1977",
          "1978",
          "1979",
          "1980",
          "1981",
          "1982",
          "1983",
          "1984",
          "1985",
          "1986",
          "1987",
          "1988",
          "1989",
          "1990",
          "1991",
          "1992",
          "1993",
          "1994",
          "1995",
          "1996",
          "1997",
          "1998",
          "1999",
          "2000",
          "2001",
          "2002",
          "2003",
          "2004",
          "2005",
          "2006",
          "2007",
          "2008",
          "2009",
          "2010",
          "2011",
          "2012",
          "2013",
          "2014",
          "2015",
          "2016",
          "2017",
          "2018",
          "2019",
          "2020"
         ],
         "y": [
          "",
          "",
          "",
          "",
          "",
          "",
          "",
          "",
          "",
          "",
          "",
          "",
          "",
          "",
          "",
          "",
          "",
          "",
          "",
          "",
          "",
          "",
          "",
          "",
          "",
          "",
          26.0483197849659,
          27.9326123967096,
          33.1872445880263,
          39.2424692179247,
          40.4402632290027,
          41.8785962689823,
          44.5395544614716,
          51.0468183922653,
          63.4292398842776,
          74.0797863737528,
          80.2381577567065,
          82.4739659836287,
          81.8362888154734,
          80.6893755831361,
          80.9700222903012,
          81.552298456301,
          80.9553593614031,
          81.8682148167155,
          84.9993772047539,
          86.5093181065059,
          87.9362296125359,
          92.1719134940608,
          97.6333310615016,
          96.9223990713835,
          100,
          105.553898922575,
          108.318908982374,
          111.158001765192,
          113.294060199837,
          114.922122819496,
          117.220567369674,
          119.088050428682,
          121.558877866113,
          125.083154382075,
          128.109443605623
         ]
        },
        {
         "line": {
          "color": "rgba(50, 171, 96, 1.0)",
          "dash": "solid",
          "shape": "linear",
          "width": 1.3
         },
         "mode": "lines",
         "name": "DNK",
         "text": "",
         "type": "scatter",
         "x": [
          "1960",
          "1961",
          "1962",
          "1963",
          "1964",
          "1965",
          "1966",
          "1967",
          "1968",
          "1969",
          "1970",
          "1971",
          "1972",
          "1973",
          "1974",
          "1975",
          "1976",
          "1977",
          "1978",
          "1979",
          "1980",
          "1981",
          "1982",
          "1983",
          "1984",
          "1985",
          "1986",
          "1987",
          "1988",
          "1989",
          "1990",
          "1991",
          "1992",
          "1993",
          "1994",
          "1995",
          "1996",
          "1997",
          "1998",
          "1999",
          "2000",
          "2001",
          "2002",
          "2003",
          "2004",
          "2005",
          "2006",
          "2007",
          "2008",
          "2009",
          "2010",
          "2011",
          "2012",
          "2013",
          "2014",
          "2015",
          "2016",
          "2017",
          "2018",
          "2019",
          "2020"
         ],
         "y": [
          8.24570210386688,
          8.53031311476557,
          9.1596642232681,
          9.71886473057789,
          10.0194481758535,
          10.5655081013624,
          11.3119569904634,
          12.2404258548344,
          13.2202972948844,
          13.6814105883403,
          14.572732791715,
          15.4281332023926,
          16.4405829836622,
          17.9701133827337,
          20.7150852602446,
          22.7048959914293,
          24.7506731541827,
          27.4540005356665,
          30.258057316311,
          33.1661744487099,
          37.2473796982412,
          41.6304231765021,
          45.8437657352022,
          49.0107579680386,
          52.093916614588,
          54.5312614945094,
          56.5370216944916,
          58.8098062672976,
          61.4769092045353,
          64.4110320507098,
          66.1125158467994,
          67.6960119632176,
          69.1149504508526,
          69.9843174716543,
          71.3784153200607,
          72.8656619944648,
          74.415003124721,
          76.0388626015534,
          77.4422747968931,
          79.376624408535,
          81.6811516828855,
          83.5907508258191,
          85.6173555932506,
          87.3939826801178,
          88.4028211766806,
          90.0098205517365,
          91.7418087670744,
          93.295241496295,
          96.482456923489,
          97.741273100616,
          100,
          102.758682260512,
          105.222747968931,
          106.053030979377,
          106.65119185787,
          107.133291670387,
          107.401124899563,
          108.633157753772,
          109.517007410053,
          110.347290420498,
          110.811534684403
         ]
        },
        {
         "line": {
          "color": "rgba(128, 0, 128, 1.0)",
          "dash": "solid",
          "shape": "linear",
          "width": 1.3
         },
         "mode": "lines",
         "name": "FRA",
         "text": "",
         "type": "scatter",
         "x": [
          "1960",
          "1961",
          "1962",
          "1963",
          "1964",
          "1965",
          "1966",
          "1967",
          "1968",
          "1969",
          "1970",
          "1971",
          "1972",
          "1973",
          "1974",
          "1975",
          "1976",
          "1977",
          "1978",
          "1979",
          "1980",
          "1981",
          "1982",
          "1983",
          "1984",
          "1985",
          "1986",
          "1987",
          "1988",
          "1989",
          "1990",
          "1991",
          "1992",
          "1993",
          "1994",
          "1995",
          "1996",
          "1997",
          "1998",
          "1999",
          "2000",
          "2001",
          "2002",
          "2003",
          "2004",
          "2005",
          "2006",
          "2007",
          "2008",
          "2009",
          "2010",
          "2011",
          "2012",
          "2013",
          "2014",
          "2015",
          "2016",
          "2017",
          "2018",
          "2019",
          "2020"
         ],
         "y": [
          10.4335934118144,
          10.684047757307,
          11.2536442661317,
          11.8162311495891,
          12.1956729838639,
          12.5253347762586,
          12.8512440831266,
          13.2100221717785,
          13.8101805416249,
          14.6451389255486,
          15.4212787485263,
          16.2536451459642,
          17.239104154569,
          18.5114536592233,
          21.0381407380035,
          23.4966425592567,
          25.7583108976051,
          28.2039478083373,
          30.8129704904186,
          34.0935455489275,
          38.7175095461824,
          43.872515792993,
          49.1277727920604,
          53.7750382727129,
          57.9016285699203,
          61.2779302820743,
          62.8334864241848,
          64.90001583698471,
          66.65284537824,
          68.9845633391402,
          71.1881257808513,
          73.4756902285805,
          75.2124795438949,
          76.7952981752274,
          78.0666561086769,
          79.4691090816309,
          81.0448890531243,
          82.0206232733288,
          82.5546815886255,
          82.998117158493,
          84.3891323092084,
          85.768709637685,
          87.4183955374897,
          89.2528462580725,
          91.1647222368861,
          92.7563391930177,
          94.3101233525137,
          95.7134561579475,
          98.4057435464288,
          98.4919671294586,
          100,
          102.11159795175,
          104.107058016154,
          105.006246810607,
          105.539425293424,
          105.579017755019,
          105.772580900597,
          106.864453008147,
          108.842316422953,
          110.04856675289,
          110.572946910908
         ]
        },
        {
         "line": {
          "color": "rgba(219, 64, 82, 1.0)",
          "dash": "solid",
          "shape": "linear",
          "width": 1.3
         },
         "mode": "lines",
         "name": "KOR",
         "text": "",
         "type": "scatter",
         "x": [
          "1960",
          "1961",
          "1962",
          "1963",
          "1964",
          "1965",
          "1966",
          "1967",
          "1968",
          "1969",
          "1970",
          "1971",
          "1972",
          "1973",
          "1974",
          "1975",
          "1976",
          "1977",
          "1978",
          "1979",
          "1980",
          "1981",
          "1982",
          "1983",
          "1984",
          "1985",
          "1986",
          "1987",
          "1988",
          "1989",
          "1990",
          "1991",
          "1992",
          "1993",
          "1994",
          "1995",
          "1996",
          "1997",
          "1998",
          "1999",
          "2000",
          "2001",
          "2002",
          "2003",
          "2004",
          "2005",
          "2006",
          "2007",
          "2008",
          "2009",
          "2010",
          "2011",
          "2012",
          "2013",
          "2014",
          "2015",
          "2016",
          "2017",
          "2018",
          "2019",
          "2020"
         ],
         "y": [
          1.47694576772239,
          1.59799105814949,
          1.70375118408589,
          2.05628505923862,
          2.66212453609002,
          3.02279457997556,
          3.36320314108812,
          3.72920177738728,
          4.13090466449756,
          4.64270589365879,
          5.38323334385854,
          6.11059989108698,
          6.8248670391675,
          7.04469799517671,
          8.75685515941114,
          10.9678961024698,
          12.6489815717339,
          13.9261066340843,
          15.9398617079209,
          18.860602316461,
          24.2731401271262,
          29.4558568205635,
          31.5739826013738,
          32.6540071296843,
          33.396540409934,
          34.2178004146017,
          35.1587842012054,
          36.2310072623934,
          38.8201095536854,
          41.032918274049,
          44.5509168371293,
          48.7090146117342,
          51.7351491605003,
          54.2190066949474,
          57.616269225665,
          60.1978739080097,
          63.1625046333796,
          65.9663284871615,
          70.9226031127158,
          71.4992014570549,
          73.1145005331247,
          76.0876429483395,
          78.1895727223221,
          80.9378417832448,
          83.8439889622603,
          86.153128046018,
          88.0845494524604,
          90.3173578982533,
          94.5386069200954,
          97.1447399129611,
          100,
          104.025846249594,
          106.301121621065,
          107.684500029745,
          109.057170183459,
          109.827340829112,
          110.894505383873,
          113.050800144607,
          114.719274401322,
          115.15858742558,
          115.77728660141
         ]
        },
        {
         "line": {
          "color": "rgba(0, 128, 128, 1.0)",
          "dash": "solid",
          "shape": "linear",
          "width": 1.3
         },
         "mode": "lines",
         "name": "LAO",
         "text": "",
         "type": "scatter",
         "x": [
          "1960",
          "1961",
          "1962",
          "1963",
          "1964",
          "1965",
          "1966",
          "1967",
          "1968",
          "1969",
          "1970",
          "1971",
          "1972",
          "1973",
          "1974",
          "1975",
          "1976",
          "1977",
          "1978",
          "1979",
          "1980",
          "1981",
          "1982",
          "1983",
          "1984",
          "1985",
          "1986",
          "1987",
          "1988",
          "1989",
          "1990",
          "1991",
          "1992",
          "1993",
          "1994",
          "1995",
          "1996",
          "1997",
          "1998",
          "1999",
          "2000",
          "2001",
          "2002",
          "2003",
          "2004",
          "2005",
          "2006",
          "2007",
          "2008",
          "2009",
          "2010",
          "2011",
          "2012",
          "2013",
          "2014",
          "2015",
          "2016",
          "2017",
          "2018",
          "2019",
          "2020"
         ],
         "y": [
          "",
          "",
          "",
          "",
          "",
          "",
          "",
          "",
          "",
          "",
          "",
          "",
          "",
          "",
          "",
          "",
          "",
          "",
          "",
          "",
          "",
          "",
          "",
          "",
          "",
          "",
          "",
          "",
          1.6771253827207,
          2.70574992668195,
          3.67015991229318,
          4.16348660180273,
          4.5741949729403,
          4.86086994559892,
          5.19065473310036,
          6.20770741644348,
          7.016225035574,
          8.94630872973251,
          17.0857261282532,
          38.489378901588,
          48.1443015869662,
          51.9052419647664,
          57.4234671202872,
          66.3179906033737,
          73.2563556712173,
          78.5054794732104,
          83.6441297338658,
          87.5435962227756,
          94.2221298615915,
          94.3551598960601,
          100,
          107.5689885611,
          112.146185398532,
          119.291497933913,
          124.217333843943,
          125.804029263158,
          127.813009249952,
          128.868078299,
          131.497493121167,
          135.866574667173,
          142.801303317533
         ]
        },
        {
         "line": {
          "color": "rgba(255, 255, 51, 1.0)",
          "dash": "solid",
          "shape": "linear",
          "width": 1.3
         },
         "mode": "lines",
         "name": "SGP",
         "text": "",
         "type": "scatter",
         "x": [
          "1960",
          "1961",
          "1962",
          "1963",
          "1964",
          "1965",
          "1966",
          "1967",
          "1968",
          "1969",
          "1970",
          "1971",
          "1972",
          "1973",
          "1974",
          "1975",
          "1976",
          "1977",
          "1978",
          "1979",
          "1980",
          "1981",
          "1982",
          "1983",
          "1984",
          "1985",
          "1986",
          "1987",
          "1988",
          "1989",
          "1990",
          "1991",
          "1992",
          "1993",
          "1994",
          "1995",
          "1996",
          "1997",
          "1998",
          "1999",
          "2000",
          "2001",
          "2002",
          "2003",
          "2004",
          "2005",
          "2006",
          "2007",
          "2008",
          "2009",
          "2010",
          "2011",
          "2012",
          "2013",
          "2014",
          "2015",
          "2016",
          "2017",
          "2018",
          "2019",
          "2020"
         ],
         "y": [
          27.5191749343204,
          27.6292516340577,
          27.7451785639908,
          28.3570151386379,
          28.8464843983554,
          28.8980074783257,
          29.4776421279913,
          30.4630210324226,
          30.6626729673074,
          30.5789479623558,
          30.720636432274,
          31.2616287719618,
          31.9121076565866,
          38.1786022579707,
          46.7185527630431,
          47.9035836023593,
          47.0212508578685,
          48.50897979201,
          50.8726010856462,
          52.9464050544496,
          57.4611149368446,
          62.1625959841317,
          64.597061512727,
          65.3699077122811,
          67.0701693513,
          67.3921886011142,
          66.458332776653,
          66.8061135664524,
          67.8236943958652,
          69.4144694899474,
          71.8167330935613,
          74.2769601621417,
          75.9579006461718,
          77.6968045951682,
          80.1055085837786,
          81.4837509729831,
          82.6108183473333,
          84.2659972913777,
          84.0405838165083,
          84.0546268583358,
          85.1991347672751,
          86.0487387978369,
          85.7117057939776,
          86.1470400906292,
          87.5794303570314,
          87.9517360124626,
          88.7986248424537,
          90.6677293693,
          96.676988610904,
          97.2538797862137,
          100,
          105.247793398405,
          110.063514278795,
          112.659476898612,
          113.81440330709,
          113.219588558659,
          112.616956081526,
          113.265922901941,
          113.762730027133,
          114.405785881945,
          114.197662689794
         ]
        },
        {
         "line": {
          "color": "rgba(128, 128, 0, 1.0)",
          "dash": "solid",
          "shape": "linear",
          "width": 1.3
         },
         "mode": "lines",
         "name": "THA",
         "text": "",
         "type": "scatter",
         "x": [
          "1960",
          "1961",
          "1962",
          "1963",
          "1964",
          "1965",
          "1966",
          "1967",
          "1968",
          "1969",
          "1970",
          "1971",
          "1972",
          "1973",
          "1974",
          "1975",
          "1976",
          "1977",
          "1978",
          "1979",
          "1980",
          "1981",
          "1982",
          "1983",
          "1984",
          "1985",
          "1986",
          "1987",
          "1988",
          "1989",
          "1990",
          "1991",
          "1992",
          "1993",
          "1994",
          "1995",
          "1996",
          "1997",
          "1998",
          "1999",
          "2000",
          "2001",
          "2002",
          "2003",
          "2004",
          "2005",
          "2006",
          "2007",
          "2008",
          "2009",
          "2010",
          "2011",
          "2012",
          "2013",
          "2014",
          "2015",
          "2016",
          "2017",
          "2018",
          "2019",
          "2020"
         ],
         "y": [
          10.2112102238799,
          10.9655113098776,
          11.3708074157869,
          11.3708074157869,
          11.2807416144737,
          11.2995053230525,
          11.7554634421535,
          12.2620835745307,
          12.4816189652408,
          12.787467415524,
          12.7762091903975,
          12.8381294287721,
          13.4592081836702,
          15.5466707661794,
          19.3266198650319,
          20.3567474675699,
          21.2014111210485,
          22.8129869621957,
          24.6207085472419,
          27.057510175486,
          32.3887868343636,
          36.490176666987,
          38.4092242147111,
          39.8405580210068,
          40.185138381945,
          41.1623329435394,
          41.9204097372536,
          42.9543603482217,
          44.6135716327142,
          47.0028358823835,
          49.7590797079438,
          52.6002498138435,
          54.7774508189079,
          56.5917849897949,
          59.4483962375744,
          62.9072120186697,
          66.5590420732635,
          70.3035189791367,
          75.9240946234165,
          76.1402706097349,
          77.3524002473063,
          78.6108533105172,
          79.1590138472533,
          80.5873194711431,
          82.8108439018472,
          86.5707619496003,
          90.5854588383715,
          92.615968995577,
          97.6806635321804,
          96.854562441607,
          100,
          103.808790581396,
          106.938521293068,
          109.275006271572,
          111.345922613126,
          110.34333613031,
          110.550946791118,
          111.286809151122,
          112.470786778062,
          113.265649996346,
          112.307493787832
         ]
        },
        {
         "line": {
          "color": "rgba(251, 128, 114, 1.0)",
          "dash": "solid",
          "shape": "linear",
          "width": 1.3
         },
         "mode": "lines",
         "name": "USA",
         "text": "",
         "type": "scatter",
         "x": [
          "1960",
          "1961",
          "1962",
          "1963",
          "1964",
          "1965",
          "1966",
          "1967",
          "1968",
          "1969",
          "1970",
          "1971",
          "1972",
          "1973",
          "1974",
          "1975",
          "1976",
          "1977",
          "1978",
          "1979",
          "1980",
          "1981",
          "1982",
          "1983",
          "1984",
          "1985",
          "1986",
          "1987",
          "1988",
          "1989",
          "1990",
          "1991",
          "1992",
          "1993",
          "1994",
          "1995",
          "1996",
          "1997",
          "1998",
          "1999",
          "2000",
          "2001",
          "2002",
          "2003",
          "2004",
          "2005",
          "2006",
          "2007",
          "2008",
          "2009",
          "2010",
          "2011",
          "2012",
          "2013",
          "2014",
          "2015",
          "2016",
          "2017",
          "2018",
          "2019",
          "2020"
         ],
         "y": [
          13.5630607803977,
          13.7082837473334,
          13.8726149993924,
          14.0445895655005,
          14.2242074456579,
          14.4496852101109,
          14.8853541109182,
          15.2980930695779,
          15.9515964207889,
          16.8229342224036,
          17.8051000777325,
          18.5694314826577,
          19.1770749495732,
          20.3617886272073,
          22.612744614712,
          24.6802610650347,
          26.0980958211709,
          27.7949115401049,
          29.9159311887723,
          33.2828110274678,
          37.7923663165265,
          41.6980997956942,
          44.254788345169,
          45.6764447583299,
          47.6407764689876,
          49.3299488738723,
          50.2662548449057,
          52.1082935307754,
          54.2331348364675,
          56.8509698983363,
          59.919760489111,
          62.4573407534626,
          64.3490609806525,
          66.2484245218916,
          67.9758134970226,
          69.8828203523109,
          71.9312285175105,
          73.6127576083459,
          74.7554330587091,
          76.391102265249,
          78.9707207568716,
          81.2025684592531,
          82.4904668765521,
          84.3630788186188,
          86.6216781201728,
          89.5605323721102,
          92.4497050827274,
          95.0869923788515,
          98.7374773853446,
          98.3864199710624,
          100,
          103.156841568622,
          105.291504532867,
          106.833848874866,
          108.566932118964,
          108.695721960693,
          110.06700893427,
          112.411557302308,
          115.157303224791,
          117.244195476228,
          118.690501577198
         ]
        },
        {
         "line": {
          "color": "rgba(128, 177, 211, 1.0)",
          "dash": "solid",
          "shape": "linear",
          "width": 1.3
         },
         "mode": "lines",
         "name": "VNM",
         "text": "",
         "type": "scatter",
         "x": [
          "1960",
          "1961",
          "1962",
          "1963",
          "1964",
          "1965",
          "1966",
          "1967",
          "1968",
          "1969",
          "1970",
          "1971",
          "1972",
          "1973",
          "1974",
          "1975",
          "1976",
          "1977",
          "1978",
          "1979",
          "1980",
          "1981",
          "1982",
          "1983",
          "1984",
          "1985",
          "1986",
          "1987",
          "1988",
          "1989",
          "1990",
          "1991",
          "1992",
          "1993",
          "1994",
          "1995",
          "1996",
          "1997",
          "1998",
          "1999",
          "2000",
          "2001",
          "2002",
          "2003",
          "2004",
          "2005",
          "2006",
          "2007",
          "2008",
          "2009",
          "2010",
          "2011",
          "2012",
          "2013",
          "2014",
          "2015",
          "2016",
          "2017",
          "2018",
          "2019",
          "2020"
         ],
         "y": [
          "",
          "",
          "",
          "",
          "",
          "",
          "",
          "",
          "",
          "",
          "",
          "",
          "",
          "",
          "",
          "",
          "",
          "",
          "",
          "",
          "",
          "",
          "",
          "",
          "",
          "",
          "",
          "",
          "",
          "",
          "",
          "",
          "",
          "",
          "",
          40.1657203822899,
          42.4451250139849,
          43.8074123636177,
          46.9905457039141,
          48.9251945689942,
          48.0884087276966,
          47.8808858390548,
          49.7151204031794,
          51.3232296369754,
          55.3033191440045,
          59.8849626753952,
          64.3272394775767,
          69.6949931031089,
          85.8053032346153,
          91.5688306084693,
          100,
          118.677732277071,
          129.471120024261,
          138.006729874285,
          143.643689923265,
          144.550370194288,
          148.407332801278,
          153.631652156685,
          159.069641224583,
          163.516947912918,
          168.783721483338
         ]
        }
       ],
       "layout": {
        "legend": {
         "bgcolor": "#F5F6F9",
         "font": {
          "color": "#4D5663"
         }
        },
        "paper_bgcolor": "#F5F6F9",
        "plot_bgcolor": "#F5F6F9",
        "template": {
         "data": {
          "bar": [
           {
            "error_x": {
             "color": "#2a3f5f"
            },
            "error_y": {
             "color": "#2a3f5f"
            },
            "marker": {
             "line": {
              "color": "#E5ECF6",
              "width": 0.5
             },
             "pattern": {
              "fillmode": "overlay",
              "size": 10,
              "solidity": 0.2
             }
            },
            "type": "bar"
           }
          ],
          "barpolar": [
           {
            "marker": {
             "line": {
              "color": "#E5ECF6",
              "width": 0.5
             },
             "pattern": {
              "fillmode": "overlay",
              "size": 10,
              "solidity": 0.2
             }
            },
            "type": "barpolar"
           }
          ],
          "carpet": [
           {
            "aaxis": {
             "endlinecolor": "#2a3f5f",
             "gridcolor": "white",
             "linecolor": "white",
             "minorgridcolor": "white",
             "startlinecolor": "#2a3f5f"
            },
            "baxis": {
             "endlinecolor": "#2a3f5f",
             "gridcolor": "white",
             "linecolor": "white",
             "minorgridcolor": "white",
             "startlinecolor": "#2a3f5f"
            },
            "type": "carpet"
           }
          ],
          "choropleth": [
           {
            "colorbar": {
             "outlinewidth": 0,
             "ticks": ""
            },
            "type": "choropleth"
           }
          ],
          "contour": [
           {
            "colorbar": {
             "outlinewidth": 0,
             "ticks": ""
            },
            "colorscale": [
             [
              0,
              "#0d0887"
             ],
             [
              0.1111111111111111,
              "#46039f"
             ],
             [
              0.2222222222222222,
              "#7201a8"
             ],
             [
              0.3333333333333333,
              "#9c179e"
             ],
             [
              0.4444444444444444,
              "#bd3786"
             ],
             [
              0.5555555555555556,
              "#d8576b"
             ],
             [
              0.6666666666666666,
              "#ed7953"
             ],
             [
              0.7777777777777778,
              "#fb9f3a"
             ],
             [
              0.8888888888888888,
              "#fdca26"
             ],
             [
              1,
              "#f0f921"
             ]
            ],
            "type": "contour"
           }
          ],
          "contourcarpet": [
           {
            "colorbar": {
             "outlinewidth": 0,
             "ticks": ""
            },
            "type": "contourcarpet"
           }
          ],
          "heatmap": [
           {
            "colorbar": {
             "outlinewidth": 0,
             "ticks": ""
            },
            "colorscale": [
             [
              0,
              "#0d0887"
             ],
             [
              0.1111111111111111,
              "#46039f"
             ],
             [
              0.2222222222222222,
              "#7201a8"
             ],
             [
              0.3333333333333333,
              "#9c179e"
             ],
             [
              0.4444444444444444,
              "#bd3786"
             ],
             [
              0.5555555555555556,
              "#d8576b"
             ],
             [
              0.6666666666666666,
              "#ed7953"
             ],
             [
              0.7777777777777778,
              "#fb9f3a"
             ],
             [
              0.8888888888888888,
              "#fdca26"
             ],
             [
              1,
              "#f0f921"
             ]
            ],
            "type": "heatmap"
           }
          ],
          "heatmapgl": [
           {
            "colorbar": {
             "outlinewidth": 0,
             "ticks": ""
            },
            "colorscale": [
             [
              0,
              "#0d0887"
             ],
             [
              0.1111111111111111,
              "#46039f"
             ],
             [
              0.2222222222222222,
              "#7201a8"
             ],
             [
              0.3333333333333333,
              "#9c179e"
             ],
             [
              0.4444444444444444,
              "#bd3786"
             ],
             [
              0.5555555555555556,
              "#d8576b"
             ],
             [
              0.6666666666666666,
              "#ed7953"
             ],
             [
              0.7777777777777778,
              "#fb9f3a"
             ],
             [
              0.8888888888888888,
              "#fdca26"
             ],
             [
              1,
              "#f0f921"
             ]
            ],
            "type": "heatmapgl"
           }
          ],
          "histogram": [
           {
            "marker": {
             "pattern": {
              "fillmode": "overlay",
              "size": 10,
              "solidity": 0.2
             }
            },
            "type": "histogram"
           }
          ],
          "histogram2d": [
           {
            "colorbar": {
             "outlinewidth": 0,
             "ticks": ""
            },
            "colorscale": [
             [
              0,
              "#0d0887"
             ],
             [
              0.1111111111111111,
              "#46039f"
             ],
             [
              0.2222222222222222,
              "#7201a8"
             ],
             [
              0.3333333333333333,
              "#9c179e"
             ],
             [
              0.4444444444444444,
              "#bd3786"
             ],
             [
              0.5555555555555556,
              "#d8576b"
             ],
             [
              0.6666666666666666,
              "#ed7953"
             ],
             [
              0.7777777777777778,
              "#fb9f3a"
             ],
             [
              0.8888888888888888,
              "#fdca26"
             ],
             [
              1,
              "#f0f921"
             ]
            ],
            "type": "histogram2d"
           }
          ],
          "histogram2dcontour": [
           {
            "colorbar": {
             "outlinewidth": 0,
             "ticks": ""
            },
            "colorscale": [
             [
              0,
              "#0d0887"
             ],
             [
              0.1111111111111111,
              "#46039f"
             ],
             [
              0.2222222222222222,
              "#7201a8"
             ],
             [
              0.3333333333333333,
              "#9c179e"
             ],
             [
              0.4444444444444444,
              "#bd3786"
             ],
             [
              0.5555555555555556,
              "#d8576b"
             ],
             [
              0.6666666666666666,
              "#ed7953"
             ],
             [
              0.7777777777777778,
              "#fb9f3a"
             ],
             [
              0.8888888888888888,
              "#fdca26"
             ],
             [
              1,
              "#f0f921"
             ]
            ],
            "type": "histogram2dcontour"
           }
          ],
          "mesh3d": [
           {
            "colorbar": {
             "outlinewidth": 0,
             "ticks": ""
            },
            "type": "mesh3d"
           }
          ],
          "parcoords": [
           {
            "line": {
             "colorbar": {
              "outlinewidth": 0,
              "ticks": ""
             }
            },
            "type": "parcoords"
           }
          ],
          "pie": [
           {
            "automargin": true,
            "type": "pie"
           }
          ],
          "scatter": [
           {
            "marker": {
             "colorbar": {
              "outlinewidth": 0,
              "ticks": ""
             }
            },
            "type": "scatter"
           }
          ],
          "scatter3d": [
           {
            "line": {
             "colorbar": {
              "outlinewidth": 0,
              "ticks": ""
             }
            },
            "marker": {
             "colorbar": {
              "outlinewidth": 0,
              "ticks": ""
             }
            },
            "type": "scatter3d"
           }
          ],
          "scattercarpet": [
           {
            "marker": {
             "colorbar": {
              "outlinewidth": 0,
              "ticks": ""
             }
            },
            "type": "scattercarpet"
           }
          ],
          "scattergeo": [
           {
            "marker": {
             "colorbar": {
              "outlinewidth": 0,
              "ticks": ""
             }
            },
            "type": "scattergeo"
           }
          ],
          "scattergl": [
           {
            "marker": {
             "colorbar": {
              "outlinewidth": 0,
              "ticks": ""
             }
            },
            "type": "scattergl"
           }
          ],
          "scattermapbox": [
           {
            "marker": {
             "colorbar": {
              "outlinewidth": 0,
              "ticks": ""
             }
            },
            "type": "scattermapbox"
           }
          ],
          "scatterpolar": [
           {
            "marker": {
             "colorbar": {
              "outlinewidth": 0,
              "ticks": ""
             }
            },
            "type": "scatterpolar"
           }
          ],
          "scatterpolargl": [
           {
            "marker": {
             "colorbar": {
              "outlinewidth": 0,
              "ticks": ""
             }
            },
            "type": "scatterpolargl"
           }
          ],
          "scatterternary": [
           {
            "marker": {
             "colorbar": {
              "outlinewidth": 0,
              "ticks": ""
             }
            },
            "type": "scatterternary"
           }
          ],
          "surface": [
           {
            "colorbar": {
             "outlinewidth": 0,
             "ticks": ""
            },
            "colorscale": [
             [
              0,
              "#0d0887"
             ],
             [
              0.1111111111111111,
              "#46039f"
             ],
             [
              0.2222222222222222,
              "#7201a8"
             ],
             [
              0.3333333333333333,
              "#9c179e"
             ],
             [
              0.4444444444444444,
              "#bd3786"
             ],
             [
              0.5555555555555556,
              "#d8576b"
             ],
             [
              0.6666666666666666,
              "#ed7953"
             ],
             [
              0.7777777777777778,
              "#fb9f3a"
             ],
             [
              0.8888888888888888,
              "#fdca26"
             ],
             [
              1,
              "#f0f921"
             ]
            ],
            "type": "surface"
           }
          ],
          "table": [
           {
            "cells": {
             "fill": {
              "color": "#EBF0F8"
             },
             "line": {
              "color": "white"
             }
            },
            "header": {
             "fill": {
              "color": "#C8D4E3"
             },
             "line": {
              "color": "white"
             }
            },
            "type": "table"
           }
          ]
         },
         "layout": {
          "annotationdefaults": {
           "arrowcolor": "#2a3f5f",
           "arrowhead": 0,
           "arrowwidth": 1
          },
          "autotypenumbers": "strict",
          "coloraxis": {
           "colorbar": {
            "outlinewidth": 0,
            "ticks": ""
           }
          },
          "colorscale": {
           "diverging": [
            [
             0,
             "#8e0152"
            ],
            [
             0.1,
             "#c51b7d"
            ],
            [
             0.2,
             "#de77ae"
            ],
            [
             0.3,
             "#f1b6da"
            ],
            [
             0.4,
             "#fde0ef"
            ],
            [
             0.5,
             "#f7f7f7"
            ],
            [
             0.6,
             "#e6f5d0"
            ],
            [
             0.7,
             "#b8e186"
            ],
            [
             0.8,
             "#7fbc41"
            ],
            [
             0.9,
             "#4d9221"
            ],
            [
             1,
             "#276419"
            ]
           ],
           "sequential": [
            [
             0,
             "#0d0887"
            ],
            [
             0.1111111111111111,
             "#46039f"
            ],
            [
             0.2222222222222222,
             "#7201a8"
            ],
            [
             0.3333333333333333,
             "#9c179e"
            ],
            [
             0.4444444444444444,
             "#bd3786"
            ],
            [
             0.5555555555555556,
             "#d8576b"
            ],
            [
             0.6666666666666666,
             "#ed7953"
            ],
            [
             0.7777777777777778,
             "#fb9f3a"
            ],
            [
             0.8888888888888888,
             "#fdca26"
            ],
            [
             1,
             "#f0f921"
            ]
           ],
           "sequentialminus": [
            [
             0,
             "#0d0887"
            ],
            [
             0.1111111111111111,
             "#46039f"
            ],
            [
             0.2222222222222222,
             "#7201a8"
            ],
            [
             0.3333333333333333,
             "#9c179e"
            ],
            [
             0.4444444444444444,
             "#bd3786"
            ],
            [
             0.5555555555555556,
             "#d8576b"
            ],
            [
             0.6666666666666666,
             "#ed7953"
            ],
            [
             0.7777777777777778,
             "#fb9f3a"
            ],
            [
             0.8888888888888888,
             "#fdca26"
            ],
            [
             1,
             "#f0f921"
            ]
           ]
          },
          "colorway": [
           "#636efa",
           "#EF553B",
           "#00cc96",
           "#ab63fa",
           "#FFA15A",
           "#19d3f3",
           "#FF6692",
           "#B6E880",
           "#FF97FF",
           "#FECB52"
          ],
          "font": {
           "color": "#2a3f5f"
          },
          "geo": {
           "bgcolor": "white",
           "lakecolor": "white",
           "landcolor": "#E5ECF6",
           "showlakes": true,
           "showland": true,
           "subunitcolor": "white"
          },
          "hoverlabel": {
           "align": "left"
          },
          "hovermode": "closest",
          "mapbox": {
           "style": "light"
          },
          "paper_bgcolor": "white",
          "plot_bgcolor": "#E5ECF6",
          "polar": {
           "angularaxis": {
            "gridcolor": "white",
            "linecolor": "white",
            "ticks": ""
           },
           "bgcolor": "#E5ECF6",
           "radialaxis": {
            "gridcolor": "white",
            "linecolor": "white",
            "ticks": ""
           }
          },
          "scene": {
           "xaxis": {
            "backgroundcolor": "#E5ECF6",
            "gridcolor": "white",
            "gridwidth": 2,
            "linecolor": "white",
            "showbackground": true,
            "ticks": "",
            "zerolinecolor": "white"
           },
           "yaxis": {
            "backgroundcolor": "#E5ECF6",
            "gridcolor": "white",
            "gridwidth": 2,
            "linecolor": "white",
            "showbackground": true,
            "ticks": "",
            "zerolinecolor": "white"
           },
           "zaxis": {
            "backgroundcolor": "#E5ECF6",
            "gridcolor": "white",
            "gridwidth": 2,
            "linecolor": "white",
            "showbackground": true,
            "ticks": "",
            "zerolinecolor": "white"
           }
          },
          "shapedefaults": {
           "line": {
            "color": "#2a3f5f"
           }
          },
          "ternary": {
           "aaxis": {
            "gridcolor": "white",
            "linecolor": "white",
            "ticks": ""
           },
           "baxis": {
            "gridcolor": "white",
            "linecolor": "white",
            "ticks": ""
           },
           "bgcolor": "#E5ECF6",
           "caxis": {
            "gridcolor": "white",
            "linecolor": "white",
            "ticks": ""
           }
          },
          "title": {
           "x": 0.05
          },
          "xaxis": {
           "automargin": true,
           "gridcolor": "white",
           "linecolor": "white",
           "ticks": "",
           "title": {
            "standoff": 15
           },
           "zerolinecolor": "white",
           "zerolinewidth": 2
          },
          "yaxis": {
           "automargin": true,
           "gridcolor": "white",
           "linecolor": "white",
           "ticks": "",
           "title": {
            "standoff": 15
           },
           "zerolinecolor": "white",
           "zerolinewidth": 2
          }
         }
        },
        "title": {
         "font": {
          "color": "#4D5663"
         },
         "text": "CPI - 2020, World Bank"
        },
        "xaxis": {
         "gridcolor": "#E1E5ED",
         "showgrid": true,
         "tickfont": {
          "color": "#4D5663"
         },
         "title": {
          "font": {
           "color": "#4D5663"
          },
          "text": "Years"
         },
         "zerolinecolor": "#E1E5ED"
        },
        "yaxis": {
         "gridcolor": "#E1E5ED",
         "showgrid": true,
         "tickfont": {
          "color": "#4D5663"
         },
         "title": {
          "font": {
           "color": "#4D5663"
          },
          "text": "X% vs 2010"
         },
         "zerolinecolor": "#E1E5ED"
        }
       }
      },
      "text/html": [
       "<div>                            <div id=\"0b296954-4ef8-41dd-9842-89dd7dcb368f\" class=\"plotly-graph-div\" style=\"height:525px; width:100%;\"></div>            <script type=\"text/javascript\">                require([\"plotly\"], function(Plotly) {                    window.PLOTLYENV=window.PLOTLYENV || {};\n",
       "                    window.PLOTLYENV.BASE_URL='https://plot.ly';                                    if (document.getElementById(\"0b296954-4ef8-41dd-9842-89dd7dcb368f\")) {                    Plotly.newPlot(                        \"0b296954-4ef8-41dd-9842-89dd7dcb368f\",                        [{\"line\":{\"color\":\"rgba(255, 153, 51, 1.0)\",\"dash\":\"solid\",\"shape\":\"linear\",\"width\":1.3},\"mode\":\"lines\",\"name\":\"ARE\",\"text\":\"\",\"type\":\"scatter\",\"x\":[\"1960\",\"1961\",\"1962\",\"1963\",\"1964\",\"1965\",\"1966\",\"1967\",\"1968\",\"1969\",\"1970\",\"1971\",\"1972\",\"1973\",\"1974\",\"1975\",\"1976\",\"1977\",\"1978\",\"1979\",\"1980\",\"1981\",\"1982\",\"1983\",\"1984\",\"1985\",\"1986\",\"1987\",\"1988\",\"1989\",\"1990\",\"1991\",\"1992\",\"1993\",\"1994\",\"1995\",\"1996\",\"1997\",\"1998\",\"1999\",\"2000\",\"2001\",\"2002\",\"2003\",\"2004\",\"2005\",\"2006\",\"2007\",\"2008\",\"2009\",\"2010\",\"2011\",\"2012\",\"2013\",\"2014\",\"2015\",\"2016\",\"2017\",\"2018\",\"2019\",\"2020\"],\"y\":[\"\",\"\",\"\",\"\",\"\",\"\",\"\",\"\",\"\",\"\",\"\",\"\",\"\",\"\",\"\",\"\",\"\",\"\",\"\",\"\",\"\",\"\",\"\",\"\",\"\",\"\",\"\",\"\",\"\",\"\",\"\",\"\",\"\",\"\",\"\",\"\",\"\",\"\",\"\",\"\",\"\",\"\",\"\",\"\",\"\",\"\",\"\",86.9531235204222,97.605246567666,99.1296581675539,100.0,100.877346595685,101.545425889605,102.663561221631,105.072324180443,109.348732137854,111.117434855702,113.302920986271,116.779772707568,114.524660532343,112.143231100025]},{\"line\":{\"color\":\"rgba(55, 128, 191, 1.0)\",\"dash\":\"solid\",\"shape\":\"linear\",\"width\":1.3},\"mode\":\"lines\",\"name\":\"CHN\",\"text\":\"\",\"type\":\"scatter\",\"x\":[\"1960\",\"1961\",\"1962\",\"1963\",\"1964\",\"1965\",\"1966\",\"1967\",\"1968\",\"1969\",\"1970\",\"1971\",\"1972\",\"1973\",\"1974\",\"1975\",\"1976\",\"1977\",\"1978\",\"1979\",\"1980\",\"1981\",\"1982\",\"1983\",\"1984\",\"1985\",\"1986\",\"1987\",\"1988\",\"1989\",\"1990\",\"1991\",\"1992\",\"1993\",\"1994\",\"1995\",\"1996\",\"1997\",\"1998\",\"1999\",\"2000\",\"2001\",\"2002\",\"2003\",\"2004\",\"2005\",\"2006\",\"2007\",\"2008\",\"2009\",\"2010\",\"2011\",\"2012\",\"2013\",\"2014\",\"2015\",\"2016\",\"2017\",\"2018\",\"2019\",\"2020\"],\"y\":[\"\",\"\",\"\",\"\",\"\",\"\",\"\",\"\",\"\",\"\",\"\",\"\",\"\",\"\",\"\",\"\",\"\",\"\",\"\",\"\",\"\",\"\",\"\",\"\",\"\",\"\",26.0483197849659,27.9326123967096,33.1872445880263,39.2424692179247,40.4402632290027,41.8785962689823,44.5395544614716,51.0468183922653,63.4292398842776,74.0797863737528,80.2381577567065,82.4739659836287,81.8362888154734,80.6893755831361,80.9700222903012,81.552298456301,80.9553593614031,81.8682148167155,84.9993772047539,86.5093181065059,87.9362296125359,92.1719134940608,97.6333310615016,96.9223990713835,100.0,105.553898922575,108.318908982374,111.158001765192,113.294060199837,114.922122819496,117.220567369674,119.088050428682,121.558877866113,125.083154382075,128.109443605623]},{\"line\":{\"color\":\"rgba(50, 171, 96, 1.0)\",\"dash\":\"solid\",\"shape\":\"linear\",\"width\":1.3},\"mode\":\"lines\",\"name\":\"DNK\",\"text\":\"\",\"type\":\"scatter\",\"x\":[\"1960\",\"1961\",\"1962\",\"1963\",\"1964\",\"1965\",\"1966\",\"1967\",\"1968\",\"1969\",\"1970\",\"1971\",\"1972\",\"1973\",\"1974\",\"1975\",\"1976\",\"1977\",\"1978\",\"1979\",\"1980\",\"1981\",\"1982\",\"1983\",\"1984\",\"1985\",\"1986\",\"1987\",\"1988\",\"1989\",\"1990\",\"1991\",\"1992\",\"1993\",\"1994\",\"1995\",\"1996\",\"1997\",\"1998\",\"1999\",\"2000\",\"2001\",\"2002\",\"2003\",\"2004\",\"2005\",\"2006\",\"2007\",\"2008\",\"2009\",\"2010\",\"2011\",\"2012\",\"2013\",\"2014\",\"2015\",\"2016\",\"2017\",\"2018\",\"2019\",\"2020\"],\"y\":[8.24570210386688,8.53031311476557,9.1596642232681,9.71886473057789,10.0194481758535,10.5655081013624,11.3119569904634,12.2404258548344,13.2202972948844,13.6814105883403,14.572732791715,15.4281332023926,16.4405829836622,17.9701133827337,20.7150852602446,22.7048959914293,24.7506731541827,27.4540005356665,30.258057316311,33.1661744487099,37.2473796982412,41.6304231765021,45.8437657352022,49.0107579680386,52.093916614588,54.5312614945094,56.5370216944916,58.8098062672976,61.4769092045353,64.4110320507098,66.1125158467994,67.6960119632176,69.1149504508526,69.9843174716543,71.3784153200607,72.8656619944648,74.415003124721,76.0388626015534,77.4422747968931,79.376624408535,81.6811516828855,83.5907508258191,85.6173555932506,87.3939826801178,88.4028211766806,90.0098205517365,91.7418087670744,93.295241496295,96.482456923489,97.741273100616,100.0,102.758682260512,105.222747968931,106.053030979377,106.65119185787,107.133291670387,107.401124899563,108.633157753772,109.517007410053,110.347290420498,110.811534684403]},{\"line\":{\"color\":\"rgba(128, 0, 128, 1.0)\",\"dash\":\"solid\",\"shape\":\"linear\",\"width\":1.3},\"mode\":\"lines\",\"name\":\"FRA\",\"text\":\"\",\"type\":\"scatter\",\"x\":[\"1960\",\"1961\",\"1962\",\"1963\",\"1964\",\"1965\",\"1966\",\"1967\",\"1968\",\"1969\",\"1970\",\"1971\",\"1972\",\"1973\",\"1974\",\"1975\",\"1976\",\"1977\",\"1978\",\"1979\",\"1980\",\"1981\",\"1982\",\"1983\",\"1984\",\"1985\",\"1986\",\"1987\",\"1988\",\"1989\",\"1990\",\"1991\",\"1992\",\"1993\",\"1994\",\"1995\",\"1996\",\"1997\",\"1998\",\"1999\",\"2000\",\"2001\",\"2002\",\"2003\",\"2004\",\"2005\",\"2006\",\"2007\",\"2008\",\"2009\",\"2010\",\"2011\",\"2012\",\"2013\",\"2014\",\"2015\",\"2016\",\"2017\",\"2018\",\"2019\",\"2020\"],\"y\":[10.4335934118144,10.684047757307,11.2536442661317,11.8162311495891,12.1956729838639,12.5253347762586,12.8512440831266,13.2100221717785,13.8101805416249,14.6451389255486,15.4212787485263,16.2536451459642,17.239104154569,18.5114536592233,21.0381407380035,23.4966425592567,25.7583108976051,28.2039478083373,30.8129704904186,34.0935455489275,38.7175095461824,43.872515792993,49.1277727920604,53.7750382727129,57.9016285699203,61.2779302820743,62.8334864241848,64.90001583698471,66.65284537824,68.9845633391402,71.1881257808513,73.4756902285805,75.2124795438949,76.7952981752274,78.0666561086769,79.4691090816309,81.0448890531243,82.0206232733288,82.5546815886255,82.998117158493,84.3891323092084,85.768709637685,87.4183955374897,89.2528462580725,91.1647222368861,92.7563391930177,94.3101233525137,95.7134561579475,98.4057435464288,98.4919671294586,100.0,102.11159795175,104.107058016154,105.006246810607,105.539425293424,105.579017755019,105.772580900597,106.864453008147,108.842316422953,110.04856675289,110.572946910908]},{\"line\":{\"color\":\"rgba(219, 64, 82, 1.0)\",\"dash\":\"solid\",\"shape\":\"linear\",\"width\":1.3},\"mode\":\"lines\",\"name\":\"KOR\",\"text\":\"\",\"type\":\"scatter\",\"x\":[\"1960\",\"1961\",\"1962\",\"1963\",\"1964\",\"1965\",\"1966\",\"1967\",\"1968\",\"1969\",\"1970\",\"1971\",\"1972\",\"1973\",\"1974\",\"1975\",\"1976\",\"1977\",\"1978\",\"1979\",\"1980\",\"1981\",\"1982\",\"1983\",\"1984\",\"1985\",\"1986\",\"1987\",\"1988\",\"1989\",\"1990\",\"1991\",\"1992\",\"1993\",\"1994\",\"1995\",\"1996\",\"1997\",\"1998\",\"1999\",\"2000\",\"2001\",\"2002\",\"2003\",\"2004\",\"2005\",\"2006\",\"2007\",\"2008\",\"2009\",\"2010\",\"2011\",\"2012\",\"2013\",\"2014\",\"2015\",\"2016\",\"2017\",\"2018\",\"2019\",\"2020\"],\"y\":[1.47694576772239,1.59799105814949,1.70375118408589,2.05628505923862,2.66212453609002,3.02279457997556,3.36320314108812,3.72920177738728,4.13090466449756,4.64270589365879,5.38323334385854,6.11059989108698,6.8248670391675,7.04469799517671,8.75685515941114,10.9678961024698,12.6489815717339,13.9261066340843,15.9398617079209,18.860602316461,24.2731401271262,29.4558568205635,31.5739826013738,32.6540071296843,33.396540409934,34.2178004146017,35.1587842012054,36.2310072623934,38.8201095536854,41.032918274049,44.5509168371293,48.7090146117342,51.7351491605003,54.2190066949474,57.616269225665,60.1978739080097,63.1625046333796,65.9663284871615,70.9226031127158,71.4992014570549,73.1145005331247,76.0876429483395,78.1895727223221,80.9378417832448,83.8439889622603,86.153128046018,88.0845494524604,90.3173578982533,94.5386069200954,97.1447399129611,100.0,104.025846249594,106.301121621065,107.684500029745,109.057170183459,109.827340829112,110.894505383873,113.050800144607,114.719274401322,115.15858742558,115.77728660141]},{\"line\":{\"color\":\"rgba(0, 128, 128, 1.0)\",\"dash\":\"solid\",\"shape\":\"linear\",\"width\":1.3},\"mode\":\"lines\",\"name\":\"LAO\",\"text\":\"\",\"type\":\"scatter\",\"x\":[\"1960\",\"1961\",\"1962\",\"1963\",\"1964\",\"1965\",\"1966\",\"1967\",\"1968\",\"1969\",\"1970\",\"1971\",\"1972\",\"1973\",\"1974\",\"1975\",\"1976\",\"1977\",\"1978\",\"1979\",\"1980\",\"1981\",\"1982\",\"1983\",\"1984\",\"1985\",\"1986\",\"1987\",\"1988\",\"1989\",\"1990\",\"1991\",\"1992\",\"1993\",\"1994\",\"1995\",\"1996\",\"1997\",\"1998\",\"1999\",\"2000\",\"2001\",\"2002\",\"2003\",\"2004\",\"2005\",\"2006\",\"2007\",\"2008\",\"2009\",\"2010\",\"2011\",\"2012\",\"2013\",\"2014\",\"2015\",\"2016\",\"2017\",\"2018\",\"2019\",\"2020\"],\"y\":[\"\",\"\",\"\",\"\",\"\",\"\",\"\",\"\",\"\",\"\",\"\",\"\",\"\",\"\",\"\",\"\",\"\",\"\",\"\",\"\",\"\",\"\",\"\",\"\",\"\",\"\",\"\",\"\",1.6771253827207,2.70574992668195,3.67015991229318,4.16348660180273,4.5741949729403,4.86086994559892,5.19065473310036,6.20770741644348,7.016225035574,8.94630872973251,17.0857261282532,38.489378901588,48.1443015869662,51.9052419647664,57.4234671202872,66.3179906033737,73.2563556712173,78.5054794732104,83.6441297338658,87.5435962227756,94.2221298615915,94.3551598960601,100.0,107.5689885611,112.146185398532,119.291497933913,124.217333843943,125.804029263158,127.813009249952,128.868078299,131.497493121167,135.866574667173,142.801303317533]},{\"line\":{\"color\":\"rgba(255, 255, 51, 1.0)\",\"dash\":\"solid\",\"shape\":\"linear\",\"width\":1.3},\"mode\":\"lines\",\"name\":\"SGP\",\"text\":\"\",\"type\":\"scatter\",\"x\":[\"1960\",\"1961\",\"1962\",\"1963\",\"1964\",\"1965\",\"1966\",\"1967\",\"1968\",\"1969\",\"1970\",\"1971\",\"1972\",\"1973\",\"1974\",\"1975\",\"1976\",\"1977\",\"1978\",\"1979\",\"1980\",\"1981\",\"1982\",\"1983\",\"1984\",\"1985\",\"1986\",\"1987\",\"1988\",\"1989\",\"1990\",\"1991\",\"1992\",\"1993\",\"1994\",\"1995\",\"1996\",\"1997\",\"1998\",\"1999\",\"2000\",\"2001\",\"2002\",\"2003\",\"2004\",\"2005\",\"2006\",\"2007\",\"2008\",\"2009\",\"2010\",\"2011\",\"2012\",\"2013\",\"2014\",\"2015\",\"2016\",\"2017\",\"2018\",\"2019\",\"2020\"],\"y\":[27.5191749343204,27.6292516340577,27.7451785639908,28.3570151386379,28.8464843983554,28.8980074783257,29.4776421279913,30.4630210324226,30.6626729673074,30.5789479623558,30.720636432274,31.2616287719618,31.9121076565866,38.1786022579707,46.7185527630431,47.9035836023593,47.0212508578685,48.50897979201,50.8726010856462,52.9464050544496,57.4611149368446,62.1625959841317,64.597061512727,65.3699077122811,67.0701693513,67.3921886011142,66.458332776653,66.8061135664524,67.8236943958652,69.4144694899474,71.8167330935613,74.2769601621417,75.9579006461718,77.6968045951682,80.1055085837786,81.4837509729831,82.6108183473333,84.2659972913777,84.0405838165083,84.0546268583358,85.1991347672751,86.0487387978369,85.7117057939776,86.1470400906292,87.5794303570314,87.9517360124626,88.7986248424537,90.6677293693,96.676988610904,97.2538797862137,100.0,105.247793398405,110.063514278795,112.659476898612,113.81440330709,113.219588558659,112.616956081526,113.265922901941,113.762730027133,114.405785881945,114.197662689794]},{\"line\":{\"color\":\"rgba(128, 128, 0, 1.0)\",\"dash\":\"solid\",\"shape\":\"linear\",\"width\":1.3},\"mode\":\"lines\",\"name\":\"THA\",\"text\":\"\",\"type\":\"scatter\",\"x\":[\"1960\",\"1961\",\"1962\",\"1963\",\"1964\",\"1965\",\"1966\",\"1967\",\"1968\",\"1969\",\"1970\",\"1971\",\"1972\",\"1973\",\"1974\",\"1975\",\"1976\",\"1977\",\"1978\",\"1979\",\"1980\",\"1981\",\"1982\",\"1983\",\"1984\",\"1985\",\"1986\",\"1987\",\"1988\",\"1989\",\"1990\",\"1991\",\"1992\",\"1993\",\"1994\",\"1995\",\"1996\",\"1997\",\"1998\",\"1999\",\"2000\",\"2001\",\"2002\",\"2003\",\"2004\",\"2005\",\"2006\",\"2007\",\"2008\",\"2009\",\"2010\",\"2011\",\"2012\",\"2013\",\"2014\",\"2015\",\"2016\",\"2017\",\"2018\",\"2019\",\"2020\"],\"y\":[10.2112102238799,10.9655113098776,11.3708074157869,11.3708074157869,11.2807416144737,11.2995053230525,11.7554634421535,12.2620835745307,12.4816189652408,12.787467415524,12.7762091903975,12.8381294287721,13.4592081836702,15.5466707661794,19.3266198650319,20.3567474675699,21.2014111210485,22.8129869621957,24.6207085472419,27.057510175486,32.3887868343636,36.490176666987,38.4092242147111,39.8405580210068,40.185138381945,41.1623329435394,41.9204097372536,42.9543603482217,44.6135716327142,47.0028358823835,49.7590797079438,52.6002498138435,54.7774508189079,56.5917849897949,59.4483962375744,62.9072120186697,66.5590420732635,70.3035189791367,75.9240946234165,76.1402706097349,77.3524002473063,78.6108533105172,79.1590138472533,80.5873194711431,82.8108439018472,86.5707619496003,90.5854588383715,92.615968995577,97.6806635321804,96.854562441607,100.0,103.808790581396,106.938521293068,109.275006271572,111.345922613126,110.34333613031,110.550946791118,111.286809151122,112.470786778062,113.265649996346,112.307493787832]},{\"line\":{\"color\":\"rgba(251, 128, 114, 1.0)\",\"dash\":\"solid\",\"shape\":\"linear\",\"width\":1.3},\"mode\":\"lines\",\"name\":\"USA\",\"text\":\"\",\"type\":\"scatter\",\"x\":[\"1960\",\"1961\",\"1962\",\"1963\",\"1964\",\"1965\",\"1966\",\"1967\",\"1968\",\"1969\",\"1970\",\"1971\",\"1972\",\"1973\",\"1974\",\"1975\",\"1976\",\"1977\",\"1978\",\"1979\",\"1980\",\"1981\",\"1982\",\"1983\",\"1984\",\"1985\",\"1986\",\"1987\",\"1988\",\"1989\",\"1990\",\"1991\",\"1992\",\"1993\",\"1994\",\"1995\",\"1996\",\"1997\",\"1998\",\"1999\",\"2000\",\"2001\",\"2002\",\"2003\",\"2004\",\"2005\",\"2006\",\"2007\",\"2008\",\"2009\",\"2010\",\"2011\",\"2012\",\"2013\",\"2014\",\"2015\",\"2016\",\"2017\",\"2018\",\"2019\",\"2020\"],\"y\":[13.5630607803977,13.7082837473334,13.8726149993924,14.0445895655005,14.2242074456579,14.4496852101109,14.8853541109182,15.2980930695779,15.9515964207889,16.8229342224036,17.8051000777325,18.5694314826577,19.1770749495732,20.3617886272073,22.612744614712,24.6802610650347,26.0980958211709,27.7949115401049,29.9159311887723,33.2828110274678,37.7923663165265,41.6980997956942,44.254788345169,45.6764447583299,47.6407764689876,49.3299488738723,50.2662548449057,52.1082935307754,54.2331348364675,56.8509698983363,59.919760489111,62.4573407534626,64.3490609806525,66.2484245218916,67.9758134970226,69.8828203523109,71.9312285175105,73.6127576083459,74.7554330587091,76.391102265249,78.9707207568716,81.2025684592531,82.4904668765521,84.3630788186188,86.6216781201728,89.5605323721102,92.4497050827274,95.0869923788515,98.7374773853446,98.3864199710624,100.0,103.156841568622,105.291504532867,106.833848874866,108.566932118964,108.695721960693,110.06700893427,112.411557302308,115.157303224791,117.244195476228,118.690501577198]},{\"line\":{\"color\":\"rgba(128, 177, 211, 1.0)\",\"dash\":\"solid\",\"shape\":\"linear\",\"width\":1.3},\"mode\":\"lines\",\"name\":\"VNM\",\"text\":\"\",\"type\":\"scatter\",\"x\":[\"1960\",\"1961\",\"1962\",\"1963\",\"1964\",\"1965\",\"1966\",\"1967\",\"1968\",\"1969\",\"1970\",\"1971\",\"1972\",\"1973\",\"1974\",\"1975\",\"1976\",\"1977\",\"1978\",\"1979\",\"1980\",\"1981\",\"1982\",\"1983\",\"1984\",\"1985\",\"1986\",\"1987\",\"1988\",\"1989\",\"1990\",\"1991\",\"1992\",\"1993\",\"1994\",\"1995\",\"1996\",\"1997\",\"1998\",\"1999\",\"2000\",\"2001\",\"2002\",\"2003\",\"2004\",\"2005\",\"2006\",\"2007\",\"2008\",\"2009\",\"2010\",\"2011\",\"2012\",\"2013\",\"2014\",\"2015\",\"2016\",\"2017\",\"2018\",\"2019\",\"2020\"],\"y\":[\"\",\"\",\"\",\"\",\"\",\"\",\"\",\"\",\"\",\"\",\"\",\"\",\"\",\"\",\"\",\"\",\"\",\"\",\"\",\"\",\"\",\"\",\"\",\"\",\"\",\"\",\"\",\"\",\"\",\"\",\"\",\"\",\"\",\"\",\"\",40.1657203822899,42.4451250139849,43.8074123636177,46.9905457039141,48.9251945689942,48.0884087276966,47.8808858390548,49.7151204031794,51.3232296369754,55.3033191440045,59.8849626753952,64.3272394775767,69.6949931031089,85.8053032346153,91.5688306084693,100.0,118.677732277071,129.471120024261,138.006729874285,143.643689923265,144.550370194288,148.407332801278,153.631652156685,159.069641224583,163.516947912918,168.783721483338]}],                        {\"legend\":{\"bgcolor\":\"#F5F6F9\",\"font\":{\"color\":\"#4D5663\"}},\"paper_bgcolor\":\"#F5F6F9\",\"plot_bgcolor\":\"#F5F6F9\",\"template\":{\"data\":{\"bar\":[{\"error_x\":{\"color\":\"#2a3f5f\"},\"error_y\":{\"color\":\"#2a3f5f\"},\"marker\":{\"line\":{\"color\":\"#E5ECF6\",\"width\":0.5},\"pattern\":{\"fillmode\":\"overlay\",\"size\":10,\"solidity\":0.2}},\"type\":\"bar\"}],\"barpolar\":[{\"marker\":{\"line\":{\"color\":\"#E5ECF6\",\"width\":0.5},\"pattern\":{\"fillmode\":\"overlay\",\"size\":10,\"solidity\":0.2}},\"type\":\"barpolar\"}],\"carpet\":[{\"aaxis\":{\"endlinecolor\":\"#2a3f5f\",\"gridcolor\":\"white\",\"linecolor\":\"white\",\"minorgridcolor\":\"white\",\"startlinecolor\":\"#2a3f5f\"},\"baxis\":{\"endlinecolor\":\"#2a3f5f\",\"gridcolor\":\"white\",\"linecolor\":\"white\",\"minorgridcolor\":\"white\",\"startlinecolor\":\"#2a3f5f\"},\"type\":\"carpet\"}],\"choropleth\":[{\"colorbar\":{\"outlinewidth\":0,\"ticks\":\"\"},\"type\":\"choropleth\"}],\"contour\":[{\"colorbar\":{\"outlinewidth\":0,\"ticks\":\"\"},\"colorscale\":[[0.0,\"#0d0887\"],[0.1111111111111111,\"#46039f\"],[0.2222222222222222,\"#7201a8\"],[0.3333333333333333,\"#9c179e\"],[0.4444444444444444,\"#bd3786\"],[0.5555555555555556,\"#d8576b\"],[0.6666666666666666,\"#ed7953\"],[0.7777777777777778,\"#fb9f3a\"],[0.8888888888888888,\"#fdca26\"],[1.0,\"#f0f921\"]],\"type\":\"contour\"}],\"contourcarpet\":[{\"colorbar\":{\"outlinewidth\":0,\"ticks\":\"\"},\"type\":\"contourcarpet\"}],\"heatmap\":[{\"colorbar\":{\"outlinewidth\":0,\"ticks\":\"\"},\"colorscale\":[[0.0,\"#0d0887\"],[0.1111111111111111,\"#46039f\"],[0.2222222222222222,\"#7201a8\"],[0.3333333333333333,\"#9c179e\"],[0.4444444444444444,\"#bd3786\"],[0.5555555555555556,\"#d8576b\"],[0.6666666666666666,\"#ed7953\"],[0.7777777777777778,\"#fb9f3a\"],[0.8888888888888888,\"#fdca26\"],[1.0,\"#f0f921\"]],\"type\":\"heatmap\"}],\"heatmapgl\":[{\"colorbar\":{\"outlinewidth\":0,\"ticks\":\"\"},\"colorscale\":[[0.0,\"#0d0887\"],[0.1111111111111111,\"#46039f\"],[0.2222222222222222,\"#7201a8\"],[0.3333333333333333,\"#9c179e\"],[0.4444444444444444,\"#bd3786\"],[0.5555555555555556,\"#d8576b\"],[0.6666666666666666,\"#ed7953\"],[0.7777777777777778,\"#fb9f3a\"],[0.8888888888888888,\"#fdca26\"],[1.0,\"#f0f921\"]],\"type\":\"heatmapgl\"}],\"histogram\":[{\"marker\":{\"pattern\":{\"fillmode\":\"overlay\",\"size\":10,\"solidity\":0.2}},\"type\":\"histogram\"}],\"histogram2d\":[{\"colorbar\":{\"outlinewidth\":0,\"ticks\":\"\"},\"colorscale\":[[0.0,\"#0d0887\"],[0.1111111111111111,\"#46039f\"],[0.2222222222222222,\"#7201a8\"],[0.3333333333333333,\"#9c179e\"],[0.4444444444444444,\"#bd3786\"],[0.5555555555555556,\"#d8576b\"],[0.6666666666666666,\"#ed7953\"],[0.7777777777777778,\"#fb9f3a\"],[0.8888888888888888,\"#fdca26\"],[1.0,\"#f0f921\"]],\"type\":\"histogram2d\"}],\"histogram2dcontour\":[{\"colorbar\":{\"outlinewidth\":0,\"ticks\":\"\"},\"colorscale\":[[0.0,\"#0d0887\"],[0.1111111111111111,\"#46039f\"],[0.2222222222222222,\"#7201a8\"],[0.3333333333333333,\"#9c179e\"],[0.4444444444444444,\"#bd3786\"],[0.5555555555555556,\"#d8576b\"],[0.6666666666666666,\"#ed7953\"],[0.7777777777777778,\"#fb9f3a\"],[0.8888888888888888,\"#fdca26\"],[1.0,\"#f0f921\"]],\"type\":\"histogram2dcontour\"}],\"mesh3d\":[{\"colorbar\":{\"outlinewidth\":0,\"ticks\":\"\"},\"type\":\"mesh3d\"}],\"parcoords\":[{\"line\":{\"colorbar\":{\"outlinewidth\":0,\"ticks\":\"\"}},\"type\":\"parcoords\"}],\"pie\":[{\"automargin\":true,\"type\":\"pie\"}],\"scatter\":[{\"marker\":{\"colorbar\":{\"outlinewidth\":0,\"ticks\":\"\"}},\"type\":\"scatter\"}],\"scatter3d\":[{\"line\":{\"colorbar\":{\"outlinewidth\":0,\"ticks\":\"\"}},\"marker\":{\"colorbar\":{\"outlinewidth\":0,\"ticks\":\"\"}},\"type\":\"scatter3d\"}],\"scattercarpet\":[{\"marker\":{\"colorbar\":{\"outlinewidth\":0,\"ticks\":\"\"}},\"type\":\"scattercarpet\"}],\"scattergeo\":[{\"marker\":{\"colorbar\":{\"outlinewidth\":0,\"ticks\":\"\"}},\"type\":\"scattergeo\"}],\"scattergl\":[{\"marker\":{\"colorbar\":{\"outlinewidth\":0,\"ticks\":\"\"}},\"type\":\"scattergl\"}],\"scattermapbox\":[{\"marker\":{\"colorbar\":{\"outlinewidth\":0,\"ticks\":\"\"}},\"type\":\"scattermapbox\"}],\"scatterpolar\":[{\"marker\":{\"colorbar\":{\"outlinewidth\":0,\"ticks\":\"\"}},\"type\":\"scatterpolar\"}],\"scatterpolargl\":[{\"marker\":{\"colorbar\":{\"outlinewidth\":0,\"ticks\":\"\"}},\"type\":\"scatterpolargl\"}],\"scatterternary\":[{\"marker\":{\"colorbar\":{\"outlinewidth\":0,\"ticks\":\"\"}},\"type\":\"scatterternary\"}],\"surface\":[{\"colorbar\":{\"outlinewidth\":0,\"ticks\":\"\"},\"colorscale\":[[0.0,\"#0d0887\"],[0.1111111111111111,\"#46039f\"],[0.2222222222222222,\"#7201a8\"],[0.3333333333333333,\"#9c179e\"],[0.4444444444444444,\"#bd3786\"],[0.5555555555555556,\"#d8576b\"],[0.6666666666666666,\"#ed7953\"],[0.7777777777777778,\"#fb9f3a\"],[0.8888888888888888,\"#fdca26\"],[1.0,\"#f0f921\"]],\"type\":\"surface\"}],\"table\":[{\"cells\":{\"fill\":{\"color\":\"#EBF0F8\"},\"line\":{\"color\":\"white\"}},\"header\":{\"fill\":{\"color\":\"#C8D4E3\"},\"line\":{\"color\":\"white\"}},\"type\":\"table\"}]},\"layout\":{\"annotationdefaults\":{\"arrowcolor\":\"#2a3f5f\",\"arrowhead\":0,\"arrowwidth\":1},\"autotypenumbers\":\"strict\",\"coloraxis\":{\"colorbar\":{\"outlinewidth\":0,\"ticks\":\"\"}},\"colorscale\":{\"diverging\":[[0,\"#8e0152\"],[0.1,\"#c51b7d\"],[0.2,\"#de77ae\"],[0.3,\"#f1b6da\"],[0.4,\"#fde0ef\"],[0.5,\"#f7f7f7\"],[0.6,\"#e6f5d0\"],[0.7,\"#b8e186\"],[0.8,\"#7fbc41\"],[0.9,\"#4d9221\"],[1,\"#276419\"]],\"sequential\":[[0.0,\"#0d0887\"],[0.1111111111111111,\"#46039f\"],[0.2222222222222222,\"#7201a8\"],[0.3333333333333333,\"#9c179e\"],[0.4444444444444444,\"#bd3786\"],[0.5555555555555556,\"#d8576b\"],[0.6666666666666666,\"#ed7953\"],[0.7777777777777778,\"#fb9f3a\"],[0.8888888888888888,\"#fdca26\"],[1.0,\"#f0f921\"]],\"sequentialminus\":[[0.0,\"#0d0887\"],[0.1111111111111111,\"#46039f\"],[0.2222222222222222,\"#7201a8\"],[0.3333333333333333,\"#9c179e\"],[0.4444444444444444,\"#bd3786\"],[0.5555555555555556,\"#d8576b\"],[0.6666666666666666,\"#ed7953\"],[0.7777777777777778,\"#fb9f3a\"],[0.8888888888888888,\"#fdca26\"],[1.0,\"#f0f921\"]]},\"colorway\":[\"#636efa\",\"#EF553B\",\"#00cc96\",\"#ab63fa\",\"#FFA15A\",\"#19d3f3\",\"#FF6692\",\"#B6E880\",\"#FF97FF\",\"#FECB52\"],\"font\":{\"color\":\"#2a3f5f\"},\"geo\":{\"bgcolor\":\"white\",\"lakecolor\":\"white\",\"landcolor\":\"#E5ECF6\",\"showlakes\":true,\"showland\":true,\"subunitcolor\":\"white\"},\"hoverlabel\":{\"align\":\"left\"},\"hovermode\":\"closest\",\"mapbox\":{\"style\":\"light\"},\"paper_bgcolor\":\"white\",\"plot_bgcolor\":\"#E5ECF6\",\"polar\":{\"angularaxis\":{\"gridcolor\":\"white\",\"linecolor\":\"white\",\"ticks\":\"\"},\"bgcolor\":\"#E5ECF6\",\"radialaxis\":{\"gridcolor\":\"white\",\"linecolor\":\"white\",\"ticks\":\"\"}},\"scene\":{\"xaxis\":{\"backgroundcolor\":\"#E5ECF6\",\"gridcolor\":\"white\",\"gridwidth\":2,\"linecolor\":\"white\",\"showbackground\":true,\"ticks\":\"\",\"zerolinecolor\":\"white\"},\"yaxis\":{\"backgroundcolor\":\"#E5ECF6\",\"gridcolor\":\"white\",\"gridwidth\":2,\"linecolor\":\"white\",\"showbackground\":true,\"ticks\":\"\",\"zerolinecolor\":\"white\"},\"zaxis\":{\"backgroundcolor\":\"#E5ECF6\",\"gridcolor\":\"white\",\"gridwidth\":2,\"linecolor\":\"white\",\"showbackground\":true,\"ticks\":\"\",\"zerolinecolor\":\"white\"}},\"shapedefaults\":{\"line\":{\"color\":\"#2a3f5f\"}},\"ternary\":{\"aaxis\":{\"gridcolor\":\"white\",\"linecolor\":\"white\",\"ticks\":\"\"},\"baxis\":{\"gridcolor\":\"white\",\"linecolor\":\"white\",\"ticks\":\"\"},\"bgcolor\":\"#E5ECF6\",\"caxis\":{\"gridcolor\":\"white\",\"linecolor\":\"white\",\"ticks\":\"\"}},\"title\":{\"x\":0.05},\"xaxis\":{\"automargin\":true,\"gridcolor\":\"white\",\"linecolor\":\"white\",\"ticks\":\"\",\"title\":{\"standoff\":15},\"zerolinecolor\":\"white\",\"zerolinewidth\":2},\"yaxis\":{\"automargin\":true,\"gridcolor\":\"white\",\"linecolor\":\"white\",\"ticks\":\"\",\"title\":{\"standoff\":15},\"zerolinecolor\":\"white\",\"zerolinewidth\":2}}},\"title\":{\"font\":{\"color\":\"#4D5663\"},\"text\":\"CPI - 2020, World Bank\"},\"xaxis\":{\"gridcolor\":\"#E1E5ED\",\"showgrid\":true,\"tickfont\":{\"color\":\"#4D5663\"},\"title\":{\"font\":{\"color\":\"#4D5663\"},\"text\":\"Years\"},\"zerolinecolor\":\"#E1E5ED\"},\"yaxis\":{\"gridcolor\":\"#E1E5ED\",\"showgrid\":true,\"tickfont\":{\"color\":\"#4D5663\"},\"title\":{\"font\":{\"color\":\"#4D5663\"},\"text\":\"X% vs 2010\"},\"zerolinecolor\":\"#E1E5ED\"}},                        {\"showLink\": true, \"linkText\": \"Export to plot.ly\", \"plotlyServerURL\": \"https://plot.ly\", \"responsive\": true}                    ).then(function(){\n",
       "                            \n",
       "var gd = document.getElementById('0b296954-4ef8-41dd-9842-89dd7dcb368f');\n",
       "var x = new MutationObserver(function (mutations, observer) {{\n",
       "        var display = window.getComputedStyle(gd).display;\n",
       "        if (!display || display === 'none') {{\n",
       "            console.log([gd, 'removed!']);\n",
       "            Plotly.purge(gd);\n",
       "            observer.disconnect();\n",
       "        }}\n",
       "}});\n",
       "\n",
       "// Listen for the removal of the full notebook cells\n",
       "var notebookContainer = gd.closest('#notebook-container');\n",
       "if (notebookContainer) {{\n",
       "    x.observe(notebookContainer, {childList: true});\n",
       "}}\n",
       "\n",
       "// Listen for the clearing of the current output cell\n",
       "var outputEl = gd.closest('.output');\n",
       "if (outputEl) {{\n",
       "    x.observe(outputEl, {childList: true});\n",
       "}}\n",
       "\n",
       "                        })                };                });            </script>        </div>"
      ]
     },
     "metadata": {},
     "output_type": "display_data"
    }
   ],
   "source": [
    "dft_cpi.iplot(kind=\"line\", title = \"CPI - 2020, World Bank\"\n",
    "              , yTitle = \"X% vs 2010\", xTitle = \"Years\")"
   ]
  },
  {
   "cell_type": "markdown",
   "id": "357ba1bd",
   "metadata": {
    "papermill": {
     "duration": 0.038074,
     "end_time": "2021-10-18T03:03:00.657630",
     "exception": false,
     "start_time": "2021-10-18T03:03:00.619556",
     "status": "completed"
    },
    "tags": []
   },
   "source": [
    "### Sơ lược\n",
    "* Chỉ số CPI Việt Nam nằm **top bảng** 160% năm 2020, cao hơn Lào 142%, Trung Quốc 128%. Nhóm các quốc gia còn lại CPI chỉ giao động dưới 120% trong 10 năm qua từ năm 2010.\n",
    "* Từ năm 1990 tới năm 2010, **Lào** là nước có bước tăng trưởng CPI mạnh mẽ nhất từ 1.67% lên 100% trong 20 năm. Ở góc độ tiêu cực thì có vẻ là lạm phát 50 lần, ở góc độ tích cực thì chất lượng cuộc sống (giỏ hàng) tăng 50 lần.\n",
    "\n",
    "### Câu hỏi nghiên cứu:\n",
    "* 3.1. Nguyên nhân nào khiến chỉ số CPI Việt Nam khá cao so với thế giới? \n",
    "  * Do mệnh giá VND thấp?\n",
    "  * Do tăng trưởng GDP hàng năm cao? Việt Nam đang trên đà bứt ra khỏi nhóm nước đang phát triển?\n",
    "  * Do giỏ hàng tiêu dùng của người Việt Nam dịch chuyển sang nhóm hàng có giá trị cao hơn?\n",
    "* 3.2. Con số CPI tuyệt đối từ World Bank là bao nhiêu?\n",
    "* 3.3. Sự gia tăng đáng kể CPI ở Lào và Việt Nam từ năm 1990 là do lạm phát hay do sự dịch chuyển trong cấu trúc giỏ hàng tiêu dùng theo số liệu từ World Bank?"
   ]
  },
  {
   "cell_type": "code",
   "execution_count": null,
   "id": "b183bf0b",
   "metadata": {
    "papermill": {
     "duration": 0.037816,
     "end_time": "2021-10-18T03:03:00.733633",
     "exception": false,
     "start_time": "2021-10-18T03:03:00.695817",
     "status": "completed"
    },
    "tags": []
   },
   "outputs": [],
   "source": []
  }
 ],
 "metadata": {
  "kernelspec": {
   "display_name": "Python 3",
   "language": "python",
   "name": "python3"
  },
  "language_info": {
   "codemirror_mode": {
    "name": "ipython",
    "version": 3
   },
   "file_extension": ".py",
   "mimetype": "text/x-python",
   "name": "python",
   "nbconvert_exporter": "python",
   "pygments_lexer": "ipython3",
   "version": "3.7.10"
  },
  "papermill": {
   "default_parameters": {},
   "duration": 29.920501,
   "end_time": "2021-10-18T03:03:01.582712",
   "environment_variables": {},
   "exception": null,
   "input_path": "__notebook__.ipynb",
   "output_path": "__notebook__.ipynb",
   "parameters": {},
   "start_time": "2021-10-18T03:02:31.662211",
   "version": "2.3.3"
  }
 },
 "nbformat": 4,
 "nbformat_minor": 5
}
